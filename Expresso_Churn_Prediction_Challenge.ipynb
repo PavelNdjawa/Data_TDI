{
  "nbformat": 4,
  "nbformat_minor": 0,
  "metadata": {
    "colab": {
      "provenance": [],
      "collapsed_sections": [
        "e1ugCUrIRQoX"
      ],
      "include_colab_link": true
    },
    "kernelspec": {
      "display_name": "Python 3",
      "language": "python",
      "name": "python3"
    },
    "language_info": {
      "codemirror_mode": {
        "name": "ipython",
        "version": 3
      },
      "file_extension": ".py",
      "mimetype": "text/x-python",
      "name": "python",
      "nbconvert_exporter": "python",
      "pygments_lexer": "ipython3",
      "version": "3.7.3"
    }
  },
  "cells": [
    {
      "cell_type": "markdown",
      "metadata": {
        "id": "view-in-github",
        "colab_type": "text"
      },
      "source": [
        "<a href=\"https://colab.research.google.com/github/PavelNdjawa/Data_TDI/blob/master/Expresso_Churn_Prediction_Challenge.ipynb\" target=\"_parent\"><img src=\"https://colab.research.google.com/assets/colab-badge.svg\" alt=\"Open In Colab\"/></a>"
      ]
    },
    {
      "cell_type": "code",
      "metadata": {
        "id": "ZPW5q_I6CAzO"
      },
      "source": [],
      "execution_count": null,
      "outputs": []
    },
    {
      "cell_type": "code",
      "metadata": {
        "colab": {
          "base_uri": "https://localhost:8080/"
        },
        "id": "lxXbVwwvWG5V",
        "outputId": "9708df06-d67c-4ea6-b1eb-65b0fb11c01e"
      },
      "source": [
        "from google.colab import drive\n",
        "drive.mount('/content/drive')"
      ],
      "execution_count": null,
      "outputs": [
        {
          "output_type": "stream",
          "name": "stdout",
          "text": [
            "Drive already mounted at /content/drive; to attempt to forcibly remount, call drive.mount(\"/content/drive\", force_remount=True).\n"
          ]
        }
      ]
    },
    {
      "cell_type": "markdown",
      "metadata": {
        "id": "hWaYukTYeLUo"
      },
      "source": []
    },
    {
      "cell_type": "markdown",
      "metadata": {
        "id": "XipGj_zF8wVQ"
      },
      "source": []
    },
    {
      "cell_type": "code",
      "metadata": {
        "id": "mqxHlMvuV7zT"
      },
      "source": [
        "#Import some libraries\n",
        "import pandas as pd\n",
        "import numpy as np\n",
        "import matplotlib.pyplot as plt\n",
        "from pylab import rcParams\n",
        "import seaborn as sb\n",
        "sb.set_style('darkgrid')\n",
        "rcParams['figure.figsize'] = 8,8\n",
        "import warnings\n",
        "warnings.filterwarnings(\"ignore\")\n",
        "%matplotlib inline"
      ],
      "execution_count": null,
      "outputs": []
    },
    {
      "cell_type": "code",
      "metadata": {
        "id": "_jRfhkKyRQny"
      },
      "source": [
        "#import data\n",
        "train = pd.read_csv('/content/drive/MyDrive/Expresso Churn Prediction Challenge/Train.csv')\n",
        "test=  pd.read_csv('/content/drive/MyDrive/Expresso Churn Prediction Challenge/Test.csv')\n",
        "submission = pd.read_csv('/content/drive/MyDrive/Expresso Churn Prediction Challenge/SampleSubmission.csv')"
      ],
      "execution_count": null,
      "outputs": []
    },
    {
      "cell_type": "code",
      "metadata": {
        "colab": {
          "base_uri": "https://localhost:8080/",
          "height": 309
        },
        "id": "NF0QF6glRQnz",
        "outputId": "6e78a09b-d94a-4a05-cdc0-051a5579493a"
      },
      "source": [
        "train.head()"
      ],
      "execution_count": null,
      "outputs": [
        {
          "output_type": "execute_result",
          "data": {
            "text/html": [
              "<div>\n",
              "<style scoped>\n",
              "    .dataframe tbody tr th:only-of-type {\n",
              "        vertical-align: middle;\n",
              "    }\n",
              "\n",
              "    .dataframe tbody tr th {\n",
              "        vertical-align: top;\n",
              "    }\n",
              "\n",
              "    .dataframe thead th {\n",
              "        text-align: right;\n",
              "    }\n",
              "</style>\n",
              "<table border=\"1\" class=\"dataframe\">\n",
              "  <thead>\n",
              "    <tr style=\"text-align: right;\">\n",
              "      <th></th>\n",
              "      <th>user_id</th>\n",
              "      <th>REGION</th>\n",
              "      <th>TENURE</th>\n",
              "      <th>MONTANT</th>\n",
              "      <th>FREQUENCE_RECH</th>\n",
              "      <th>REVENUE</th>\n",
              "      <th>ARPU_SEGMENT</th>\n",
              "      <th>FREQUENCE</th>\n",
              "      <th>DATA_VOLUME</th>\n",
              "      <th>ON_NET</th>\n",
              "      <th>ORANGE</th>\n",
              "      <th>TIGO</th>\n",
              "      <th>ZONE1</th>\n",
              "      <th>ZONE2</th>\n",
              "      <th>MRG</th>\n",
              "      <th>REGULARITY</th>\n",
              "      <th>TOP_PACK</th>\n",
              "      <th>FREQ_TOP_PACK</th>\n",
              "      <th>CHURN</th>\n",
              "    </tr>\n",
              "  </thead>\n",
              "  <tbody>\n",
              "    <tr>\n",
              "      <th>0</th>\n",
              "      <td>00000bfd7d50f01092811bc0c8d7b0d6fe7c3596</td>\n",
              "      <td>FATICK</td>\n",
              "      <td>K &gt; 24 month</td>\n",
              "      <td>4250.0</td>\n",
              "      <td>15.0</td>\n",
              "      <td>4251.0</td>\n",
              "      <td>1417.0</td>\n",
              "      <td>17.0</td>\n",
              "      <td>4.0</td>\n",
              "      <td>388.0</td>\n",
              "      <td>46.0</td>\n",
              "      <td>1.0</td>\n",
              "      <td>1.0</td>\n",
              "      <td>2.0</td>\n",
              "      <td>NO</td>\n",
              "      <td>54</td>\n",
              "      <td>On net 200F=Unlimited _call24H</td>\n",
              "      <td>8.0</td>\n",
              "      <td>0</td>\n",
              "    </tr>\n",
              "    <tr>\n",
              "      <th>1</th>\n",
              "      <td>00000cb4a5d760de88fecb38e2f71b7bec52e834</td>\n",
              "      <td>NaN</td>\n",
              "      <td>I 18-21 month</td>\n",
              "      <td>NaN</td>\n",
              "      <td>NaN</td>\n",
              "      <td>NaN</td>\n",
              "      <td>NaN</td>\n",
              "      <td>NaN</td>\n",
              "      <td>NaN</td>\n",
              "      <td>NaN</td>\n",
              "      <td>NaN</td>\n",
              "      <td>NaN</td>\n",
              "      <td>NaN</td>\n",
              "      <td>NaN</td>\n",
              "      <td>NO</td>\n",
              "      <td>4</td>\n",
              "      <td>NaN</td>\n",
              "      <td>NaN</td>\n",
              "      <td>1</td>\n",
              "    </tr>\n",
              "    <tr>\n",
              "      <th>2</th>\n",
              "      <td>00001654a9d9f96303d9969d0a4a851714a4bb57</td>\n",
              "      <td>NaN</td>\n",
              "      <td>K &gt; 24 month</td>\n",
              "      <td>3600.0</td>\n",
              "      <td>2.0</td>\n",
              "      <td>1020.0</td>\n",
              "      <td>340.0</td>\n",
              "      <td>2.0</td>\n",
              "      <td>NaN</td>\n",
              "      <td>90.0</td>\n",
              "      <td>46.0</td>\n",
              "      <td>7.0</td>\n",
              "      <td>NaN</td>\n",
              "      <td>NaN</td>\n",
              "      <td>NO</td>\n",
              "      <td>17</td>\n",
              "      <td>On-net 1000F=10MilF;10d</td>\n",
              "      <td>1.0</td>\n",
              "      <td>0</td>\n",
              "    </tr>\n",
              "    <tr>\n",
              "      <th>3</th>\n",
              "      <td>00001dd6fa45f7ba044bd5d84937be464ce78ac2</td>\n",
              "      <td>DAKAR</td>\n",
              "      <td>K &gt; 24 month</td>\n",
              "      <td>13500.0</td>\n",
              "      <td>15.0</td>\n",
              "      <td>13502.0</td>\n",
              "      <td>4501.0</td>\n",
              "      <td>18.0</td>\n",
              "      <td>43804.0</td>\n",
              "      <td>41.0</td>\n",
              "      <td>102.0</td>\n",
              "      <td>2.0</td>\n",
              "      <td>NaN</td>\n",
              "      <td>NaN</td>\n",
              "      <td>NO</td>\n",
              "      <td>62</td>\n",
              "      <td>Data:1000F=5GB,7d</td>\n",
              "      <td>11.0</td>\n",
              "      <td>0</td>\n",
              "    </tr>\n",
              "    <tr>\n",
              "      <th>4</th>\n",
              "      <td>000028d9e13a595abe061f9b58f3d76ab907850f</td>\n",
              "      <td>DAKAR</td>\n",
              "      <td>K &gt; 24 month</td>\n",
              "      <td>1000.0</td>\n",
              "      <td>1.0</td>\n",
              "      <td>985.0</td>\n",
              "      <td>328.0</td>\n",
              "      <td>1.0</td>\n",
              "      <td>NaN</td>\n",
              "      <td>39.0</td>\n",
              "      <td>24.0</td>\n",
              "      <td>NaN</td>\n",
              "      <td>NaN</td>\n",
              "      <td>NaN</td>\n",
              "      <td>NO</td>\n",
              "      <td>11</td>\n",
              "      <td>Mixt 250F=Unlimited_call24H</td>\n",
              "      <td>2.0</td>\n",
              "      <td>0</td>\n",
              "    </tr>\n",
              "  </tbody>\n",
              "</table>\n",
              "</div>"
            ],
            "text/plain": [
              "                                    user_id  REGION  ... FREQ_TOP_PACK  CHURN\n",
              "0  00000bfd7d50f01092811bc0c8d7b0d6fe7c3596  FATICK  ...           8.0      0\n",
              "1  00000cb4a5d760de88fecb38e2f71b7bec52e834     NaN  ...           NaN      1\n",
              "2  00001654a9d9f96303d9969d0a4a851714a4bb57     NaN  ...           1.0      0\n",
              "3  00001dd6fa45f7ba044bd5d84937be464ce78ac2   DAKAR  ...          11.0      0\n",
              "4  000028d9e13a595abe061f9b58f3d76ab907850f   DAKAR  ...           2.0      0\n",
              "\n",
              "[5 rows x 19 columns]"
            ]
          },
          "metadata": {},
          "execution_count": 3
        }
      ]
    },
    {
      "cell_type": "code",
      "metadata": {
        "colab": {
          "base_uri": "https://localhost:8080/",
          "height": 309
        },
        "id": "jrRy6BXjRQn1",
        "outputId": "f351ea0e-7548-486a-c78b-b44055975887"
      },
      "source": [
        "train.tail()"
      ],
      "execution_count": null,
      "outputs": [
        {
          "output_type": "execute_result",
          "data": {
            "text/html": [
              "<div>\n",
              "<style scoped>\n",
              "    .dataframe tbody tr th:only-of-type {\n",
              "        vertical-align: middle;\n",
              "    }\n",
              "\n",
              "    .dataframe tbody tr th {\n",
              "        vertical-align: top;\n",
              "    }\n",
              "\n",
              "    .dataframe thead th {\n",
              "        text-align: right;\n",
              "    }\n",
              "</style>\n",
              "<table border=\"1\" class=\"dataframe\">\n",
              "  <thead>\n",
              "    <tr style=\"text-align: right;\">\n",
              "      <th></th>\n",
              "      <th>user_id</th>\n",
              "      <th>REGION</th>\n",
              "      <th>TENURE</th>\n",
              "      <th>MONTANT</th>\n",
              "      <th>FREQUENCE_RECH</th>\n",
              "      <th>REVENUE</th>\n",
              "      <th>ARPU_SEGMENT</th>\n",
              "      <th>FREQUENCE</th>\n",
              "      <th>DATA_VOLUME</th>\n",
              "      <th>ON_NET</th>\n",
              "      <th>ORANGE</th>\n",
              "      <th>TIGO</th>\n",
              "      <th>ZONE1</th>\n",
              "      <th>ZONE2</th>\n",
              "      <th>MRG</th>\n",
              "      <th>REGULARITY</th>\n",
              "      <th>TOP_PACK</th>\n",
              "      <th>FREQ_TOP_PACK</th>\n",
              "      <th>CHURN</th>\n",
              "    </tr>\n",
              "  </thead>\n",
              "  <tbody>\n",
              "    <tr>\n",
              "      <th>2154043</th>\n",
              "      <td>ffffe85215ddc71a84f95af0afb0deeea90e6967</td>\n",
              "      <td>NaN</td>\n",
              "      <td>K &gt; 24 month</td>\n",
              "      <td>NaN</td>\n",
              "      <td>NaN</td>\n",
              "      <td>NaN</td>\n",
              "      <td>NaN</td>\n",
              "      <td>NaN</td>\n",
              "      <td>NaN</td>\n",
              "      <td>NaN</td>\n",
              "      <td>NaN</td>\n",
              "      <td>NaN</td>\n",
              "      <td>NaN</td>\n",
              "      <td>NaN</td>\n",
              "      <td>NO</td>\n",
              "      <td>6</td>\n",
              "      <td>NaN</td>\n",
              "      <td>NaN</td>\n",
              "      <td>0</td>\n",
              "    </tr>\n",
              "    <tr>\n",
              "      <th>2154044</th>\n",
              "      <td>ffffeaaa9289cdba0ac000f0ab4b48f4aa74ed15</td>\n",
              "      <td>THIES</td>\n",
              "      <td>K &gt; 24 month</td>\n",
              "      <td>6100.0</td>\n",
              "      <td>15.0</td>\n",
              "      <td>5800.0</td>\n",
              "      <td>1933.0</td>\n",
              "      <td>15.0</td>\n",
              "      <td>621.0</td>\n",
              "      <td>26.0</td>\n",
              "      <td>40.0</td>\n",
              "      <td>40.0</td>\n",
              "      <td>NaN</td>\n",
              "      <td>NaN</td>\n",
              "      <td>NO</td>\n",
              "      <td>55</td>\n",
              "      <td>Data: 200 F=100MB,24H</td>\n",
              "      <td>9.0</td>\n",
              "      <td>0</td>\n",
              "    </tr>\n",
              "    <tr>\n",
              "      <th>2154045</th>\n",
              "      <td>fffff172fda1b4bb38a95385951908bb92379809</td>\n",
              "      <td>NaN</td>\n",
              "      <td>K &gt; 24 month</td>\n",
              "      <td>NaN</td>\n",
              "      <td>NaN</td>\n",
              "      <td>NaN</td>\n",
              "      <td>NaN</td>\n",
              "      <td>NaN</td>\n",
              "      <td>NaN</td>\n",
              "      <td>NaN</td>\n",
              "      <td>NaN</td>\n",
              "      <td>NaN</td>\n",
              "      <td>NaN</td>\n",
              "      <td>NaN</td>\n",
              "      <td>NO</td>\n",
              "      <td>1</td>\n",
              "      <td>NaN</td>\n",
              "      <td>NaN</td>\n",
              "      <td>1</td>\n",
              "    </tr>\n",
              "    <tr>\n",
              "      <th>2154046</th>\n",
              "      <td>fffff5911296937a37f09a37a549da2e0dad6dbb</td>\n",
              "      <td>THIES</td>\n",
              "      <td>K &gt; 24 month</td>\n",
              "      <td>10000.0</td>\n",
              "      <td>11.0</td>\n",
              "      <td>7120.0</td>\n",
              "      <td>2373.0</td>\n",
              "      <td>13.0</td>\n",
              "      <td>NaN</td>\n",
              "      <td>0.0</td>\n",
              "      <td>140.0</td>\n",
              "      <td>13.0</td>\n",
              "      <td>NaN</td>\n",
              "      <td>NaN</td>\n",
              "      <td>NO</td>\n",
              "      <td>28</td>\n",
              "      <td>All-net 500F=2000F;5d</td>\n",
              "      <td>12.0</td>\n",
              "      <td>0</td>\n",
              "    </tr>\n",
              "    <tr>\n",
              "      <th>2154047</th>\n",
              "      <td>fffff6dbff1508ea2bfe814e5ab2729ce6b788c2</td>\n",
              "      <td>NaN</td>\n",
              "      <td>K &gt; 24 month</td>\n",
              "      <td>NaN</td>\n",
              "      <td>NaN</td>\n",
              "      <td>NaN</td>\n",
              "      <td>NaN</td>\n",
              "      <td>NaN</td>\n",
              "      <td>2.0</td>\n",
              "      <td>NaN</td>\n",
              "      <td>NaN</td>\n",
              "      <td>NaN</td>\n",
              "      <td>NaN</td>\n",
              "      <td>NaN</td>\n",
              "      <td>NO</td>\n",
              "      <td>62</td>\n",
              "      <td>NaN</td>\n",
              "      <td>NaN</td>\n",
              "      <td>1</td>\n",
              "    </tr>\n",
              "  </tbody>\n",
              "</table>\n",
              "</div>"
            ],
            "text/plain": [
              "                                          user_id REGION  ... FREQ_TOP_PACK  CHURN\n",
              "2154043  ffffe85215ddc71a84f95af0afb0deeea90e6967    NaN  ...           NaN      0\n",
              "2154044  ffffeaaa9289cdba0ac000f0ab4b48f4aa74ed15  THIES  ...           9.0      0\n",
              "2154045  fffff172fda1b4bb38a95385951908bb92379809    NaN  ...           NaN      1\n",
              "2154046  fffff5911296937a37f09a37a549da2e0dad6dbb  THIES  ...          12.0      0\n",
              "2154047  fffff6dbff1508ea2bfe814e5ab2729ce6b788c2    NaN  ...           NaN      1\n",
              "\n",
              "[5 rows x 19 columns]"
            ]
          },
          "metadata": {},
          "execution_count": 4
        }
      ]
    },
    {
      "cell_type": "code",
      "metadata": {
        "colab": {
          "base_uri": "https://localhost:8080/"
        },
        "id": "b_TIi_eoRQn2",
        "outputId": "a29ff462-f443-4bdd-8c7f-edc7c2f9f387"
      },
      "source": [
        "train.shape"
      ],
      "execution_count": null,
      "outputs": [
        {
          "output_type": "execute_result",
          "data": {
            "text/plain": [
              "(2154048, 19)"
            ]
          },
          "metadata": {},
          "execution_count": 5
        }
      ]
    },
    {
      "cell_type": "code",
      "metadata": {
        "colab": {
          "base_uri": "https://localhost:8080/"
        },
        "id": "gnOTSVooRQn2",
        "outputId": "2b3d6e30-14c2-4330-b946-f8bf1c870fc0"
      },
      "source": [
        "#view the data types in the train data\n",
        "train.info()"
      ],
      "execution_count": null,
      "outputs": [
        {
          "output_type": "stream",
          "name": "stdout",
          "text": [
            "<class 'pandas.core.frame.DataFrame'>\n",
            "RangeIndex: 2154048 entries, 0 to 2154047\n",
            "Data columns (total 19 columns):\n",
            " #   Column          Dtype  \n",
            "---  ------          -----  \n",
            " 0   user_id         object \n",
            " 1   REGION          object \n",
            " 2   TENURE          object \n",
            " 3   MONTANT         float64\n",
            " 4   FREQUENCE_RECH  float64\n",
            " 5   REVENUE         float64\n",
            " 6   ARPU_SEGMENT    float64\n",
            " 7   FREQUENCE       float64\n",
            " 8   DATA_VOLUME     float64\n",
            " 9   ON_NET          float64\n",
            " 10  ORANGE          float64\n",
            " 11  TIGO            float64\n",
            " 12  ZONE1           float64\n",
            " 13  ZONE2           float64\n",
            " 14  MRG             object \n",
            " 15  REGULARITY      int64  \n",
            " 16  TOP_PACK        object \n",
            " 17  FREQ_TOP_PACK   float64\n",
            " 18  CHURN           int64  \n",
            "dtypes: float64(12), int64(2), object(5)\n",
            "memory usage: 312.2+ MB\n"
          ]
        }
      ]
    },
    {
      "cell_type": "code",
      "metadata": {
        "colab": {
          "base_uri": "https://localhost:8080/",
          "height": 309
        },
        "id": "_bZdaXaZRQn3",
        "outputId": "f4c9fed7-9e4b-437c-ab7b-5eaf835db1c1"
      },
      "source": [
        "test.head()"
      ],
      "execution_count": null,
      "outputs": [
        {
          "output_type": "execute_result",
          "data": {
            "text/html": [
              "<div>\n",
              "<style scoped>\n",
              "    .dataframe tbody tr th:only-of-type {\n",
              "        vertical-align: middle;\n",
              "    }\n",
              "\n",
              "    .dataframe tbody tr th {\n",
              "        vertical-align: top;\n",
              "    }\n",
              "\n",
              "    .dataframe thead th {\n",
              "        text-align: right;\n",
              "    }\n",
              "</style>\n",
              "<table border=\"1\" class=\"dataframe\">\n",
              "  <thead>\n",
              "    <tr style=\"text-align: right;\">\n",
              "      <th></th>\n",
              "      <th>user_id</th>\n",
              "      <th>REGION</th>\n",
              "      <th>TENURE</th>\n",
              "      <th>MONTANT</th>\n",
              "      <th>FREQUENCE_RECH</th>\n",
              "      <th>REVENUE</th>\n",
              "      <th>ARPU_SEGMENT</th>\n",
              "      <th>FREQUENCE</th>\n",
              "      <th>DATA_VOLUME</th>\n",
              "      <th>ON_NET</th>\n",
              "      <th>ORANGE</th>\n",
              "      <th>TIGO</th>\n",
              "      <th>ZONE1</th>\n",
              "      <th>ZONE2</th>\n",
              "      <th>MRG</th>\n",
              "      <th>REGULARITY</th>\n",
              "      <th>TOP_PACK</th>\n",
              "      <th>FREQ_TOP_PACK</th>\n",
              "    </tr>\n",
              "  </thead>\n",
              "  <tbody>\n",
              "    <tr>\n",
              "      <th>0</th>\n",
              "      <td>00001dbe00e56fc4b1c1b65dda63de2a5ece55f9</td>\n",
              "      <td>THIES</td>\n",
              "      <td>K &gt; 24 month</td>\n",
              "      <td>5000.0</td>\n",
              "      <td>5.0</td>\n",
              "      <td>5000.0</td>\n",
              "      <td>1667.0</td>\n",
              "      <td>5.0</td>\n",
              "      <td>NaN</td>\n",
              "      <td>378.0</td>\n",
              "      <td>11.0</td>\n",
              "      <td>5.0</td>\n",
              "      <td>NaN</td>\n",
              "      <td>NaN</td>\n",
              "      <td>NO</td>\n",
              "      <td>42</td>\n",
              "      <td>On-net 1000F=10MilF;10d</td>\n",
              "      <td>5.0</td>\n",
              "    </tr>\n",
              "    <tr>\n",
              "      <th>1</th>\n",
              "      <td>000055d41c8a62052dd426592e8a4a3342bf565d</td>\n",
              "      <td>NaN</td>\n",
              "      <td>I 18-21 month</td>\n",
              "      <td>300.0</td>\n",
              "      <td>2.0</td>\n",
              "      <td>326.0</td>\n",
              "      <td>109.0</td>\n",
              "      <td>3.0</td>\n",
              "      <td>397.0</td>\n",
              "      <td>NaN</td>\n",
              "      <td>0.0</td>\n",
              "      <td>NaN</td>\n",
              "      <td>NaN</td>\n",
              "      <td>NaN</td>\n",
              "      <td>NO</td>\n",
              "      <td>41</td>\n",
              "      <td>Data: 100 F=40MB,24H</td>\n",
              "      <td>1.0</td>\n",
              "    </tr>\n",
              "    <tr>\n",
              "      <th>2</th>\n",
              "      <td>000081dd3245e6869a4a9c574c7050e7bb84c2c8</td>\n",
              "      <td>DAKAR</td>\n",
              "      <td>K &gt; 24 month</td>\n",
              "      <td>3300.0</td>\n",
              "      <td>25.0</td>\n",
              "      <td>3400.0</td>\n",
              "      <td>1133.0</td>\n",
              "      <td>26.0</td>\n",
              "      <td>7150.0</td>\n",
              "      <td>0.0</td>\n",
              "      <td>2.0</td>\n",
              "      <td>5.0</td>\n",
              "      <td>NaN</td>\n",
              "      <td>NaN</td>\n",
              "      <td>NO</td>\n",
              "      <td>57</td>\n",
              "      <td>Data: 100 F=40MB,24H</td>\n",
              "      <td>22.0</td>\n",
              "    </tr>\n",
              "    <tr>\n",
              "      <th>3</th>\n",
              "      <td>0000b76d2145d9445d9ff6b65c9ebc4196c89337</td>\n",
              "      <td>NaN</td>\n",
              "      <td>K &gt; 24 month</td>\n",
              "      <td>NaN</td>\n",
              "      <td>NaN</td>\n",
              "      <td>NaN</td>\n",
              "      <td>NaN</td>\n",
              "      <td>NaN</td>\n",
              "      <td>NaN</td>\n",
              "      <td>NaN</td>\n",
              "      <td>NaN</td>\n",
              "      <td>NaN</td>\n",
              "      <td>NaN</td>\n",
              "      <td>NaN</td>\n",
              "      <td>NO</td>\n",
              "      <td>9</td>\n",
              "      <td>NaN</td>\n",
              "      <td>NaN</td>\n",
              "    </tr>\n",
              "    <tr>\n",
              "      <th>4</th>\n",
              "      <td>0000bae5480628cf8fe51ad84bcb39772fc79224</td>\n",
              "      <td>NaN</td>\n",
              "      <td>K &gt; 24 month</td>\n",
              "      <td>NaN</td>\n",
              "      <td>NaN</td>\n",
              "      <td>NaN</td>\n",
              "      <td>NaN</td>\n",
              "      <td>NaN</td>\n",
              "      <td>NaN</td>\n",
              "      <td>NaN</td>\n",
              "      <td>NaN</td>\n",
              "      <td>NaN</td>\n",
              "      <td>NaN</td>\n",
              "      <td>NaN</td>\n",
              "      <td>NO</td>\n",
              "      <td>10</td>\n",
              "      <td>NaN</td>\n",
              "      <td>NaN</td>\n",
              "    </tr>\n",
              "  </tbody>\n",
              "</table>\n",
              "</div>"
            ],
            "text/plain": [
              "                                    user_id  ... FREQ_TOP_PACK\n",
              "0  00001dbe00e56fc4b1c1b65dda63de2a5ece55f9  ...           5.0\n",
              "1  000055d41c8a62052dd426592e8a4a3342bf565d  ...           1.0\n",
              "2  000081dd3245e6869a4a9c574c7050e7bb84c2c8  ...          22.0\n",
              "3  0000b76d2145d9445d9ff6b65c9ebc4196c89337  ...           NaN\n",
              "4  0000bae5480628cf8fe51ad84bcb39772fc79224  ...           NaN\n",
              "\n",
              "[5 rows x 18 columns]"
            ]
          },
          "metadata": {},
          "execution_count": 7
        }
      ]
    },
    {
      "cell_type": "code",
      "metadata": {
        "colab": {
          "base_uri": "https://localhost:8080/",
          "height": 309
        },
        "id": "jQUXU6P5RQn4",
        "outputId": "9f9ee5f8-8b3a-40fb-8b8d-53ecb45c1715"
      },
      "source": [
        "test.tail()"
      ],
      "execution_count": null,
      "outputs": [
        {
          "output_type": "execute_result",
          "data": {
            "text/html": [
              "<div>\n",
              "<style scoped>\n",
              "    .dataframe tbody tr th:only-of-type {\n",
              "        vertical-align: middle;\n",
              "    }\n",
              "\n",
              "    .dataframe tbody tr th {\n",
              "        vertical-align: top;\n",
              "    }\n",
              "\n",
              "    .dataframe thead th {\n",
              "        text-align: right;\n",
              "    }\n",
              "</style>\n",
              "<table border=\"1\" class=\"dataframe\">\n",
              "  <thead>\n",
              "    <tr style=\"text-align: right;\">\n",
              "      <th></th>\n",
              "      <th>user_id</th>\n",
              "      <th>REGION</th>\n",
              "      <th>TENURE</th>\n",
              "      <th>MONTANT</th>\n",
              "      <th>FREQUENCE_RECH</th>\n",
              "      <th>REVENUE</th>\n",
              "      <th>ARPU_SEGMENT</th>\n",
              "      <th>FREQUENCE</th>\n",
              "      <th>DATA_VOLUME</th>\n",
              "      <th>ON_NET</th>\n",
              "      <th>ORANGE</th>\n",
              "      <th>TIGO</th>\n",
              "      <th>ZONE1</th>\n",
              "      <th>ZONE2</th>\n",
              "      <th>MRG</th>\n",
              "      <th>REGULARITY</th>\n",
              "      <th>TOP_PACK</th>\n",
              "      <th>FREQ_TOP_PACK</th>\n",
              "    </tr>\n",
              "  </thead>\n",
              "  <tbody>\n",
              "    <tr>\n",
              "      <th>380122</th>\n",
              "      <td>fffe7e03c7eede2ad0a728ee516c4d342dd16107</td>\n",
              "      <td>DAKAR</td>\n",
              "      <td>K &gt; 24 month</td>\n",
              "      <td>4000.0</td>\n",
              "      <td>8.0</td>\n",
              "      <td>3999.0</td>\n",
              "      <td>1333.0</td>\n",
              "      <td>8.0</td>\n",
              "      <td>1587.0</td>\n",
              "      <td>26.0</td>\n",
              "      <td>250.0</td>\n",
              "      <td>1.0</td>\n",
              "      <td>NaN</td>\n",
              "      <td>NaN</td>\n",
              "      <td>NO</td>\n",
              "      <td>53</td>\n",
              "      <td>Mixt 250F=Unlimited_call24H</td>\n",
              "      <td>5.0</td>\n",
              "    </tr>\n",
              "    <tr>\n",
              "      <th>380123</th>\n",
              "      <td>fffec230e6a1aa51ab37d0051ece42de611e71c6</td>\n",
              "      <td>NaN</td>\n",
              "      <td>K &gt; 24 month</td>\n",
              "      <td>NaN</td>\n",
              "      <td>NaN</td>\n",
              "      <td>NaN</td>\n",
              "      <td>NaN</td>\n",
              "      <td>NaN</td>\n",
              "      <td>NaN</td>\n",
              "      <td>NaN</td>\n",
              "      <td>NaN</td>\n",
              "      <td>NaN</td>\n",
              "      <td>NaN</td>\n",
              "      <td>NaN</td>\n",
              "      <td>NO</td>\n",
              "      <td>1</td>\n",
              "      <td>NaN</td>\n",
              "      <td>NaN</td>\n",
              "    </tr>\n",
              "    <tr>\n",
              "      <th>380124</th>\n",
              "      <td>ffff0dcc1ab9812bf205b6d76e9d084053cd96f5</td>\n",
              "      <td>NaN</td>\n",
              "      <td>K &gt; 24 month</td>\n",
              "      <td>3950.0</td>\n",
              "      <td>7.0</td>\n",
              "      <td>3949.0</td>\n",
              "      <td>1316.0</td>\n",
              "      <td>10.0</td>\n",
              "      <td>1724.0</td>\n",
              "      <td>25.0</td>\n",
              "      <td>71.0</td>\n",
              "      <td>NaN</td>\n",
              "      <td>NaN</td>\n",
              "      <td>NaN</td>\n",
              "      <td>NO</td>\n",
              "      <td>15</td>\n",
              "      <td>IVR Echat_Daily_50F</td>\n",
              "      <td>6.0</td>\n",
              "    </tr>\n",
              "    <tr>\n",
              "      <th>380125</th>\n",
              "      <td>ffff91ea6a09a0c8ea42bc6ae33df4b5e06283dc</td>\n",
              "      <td>NaN</td>\n",
              "      <td>K &gt; 24 month</td>\n",
              "      <td>3850.0</td>\n",
              "      <td>18.0</td>\n",
              "      <td>3955.0</td>\n",
              "      <td>1318.0</td>\n",
              "      <td>23.0</td>\n",
              "      <td>2962.0</td>\n",
              "      <td>0.0</td>\n",
              "      <td>7.0</td>\n",
              "      <td>NaN</td>\n",
              "      <td>NaN</td>\n",
              "      <td>NaN</td>\n",
              "      <td>NO</td>\n",
              "      <td>29</td>\n",
              "      <td>Data: 100 F=40MB,24H</td>\n",
              "      <td>11.0</td>\n",
              "    </tr>\n",
              "    <tr>\n",
              "      <th>380126</th>\n",
              "      <td>ffffb393b346f5348034e6e22be93778d94d4beb</td>\n",
              "      <td>DIOURBEL</td>\n",
              "      <td>K &gt; 24 month</td>\n",
              "      <td>NaN</td>\n",
              "      <td>NaN</td>\n",
              "      <td>NaN</td>\n",
              "      <td>NaN</td>\n",
              "      <td>NaN</td>\n",
              "      <td>NaN</td>\n",
              "      <td>0.0</td>\n",
              "      <td>NaN</td>\n",
              "      <td>NaN</td>\n",
              "      <td>NaN</td>\n",
              "      <td>NaN</td>\n",
              "      <td>NO</td>\n",
              "      <td>20</td>\n",
              "      <td>NaN</td>\n",
              "      <td>NaN</td>\n",
              "    </tr>\n",
              "  </tbody>\n",
              "</table>\n",
              "</div>"
            ],
            "text/plain": [
              "                                         user_id  ... FREQ_TOP_PACK\n",
              "380122  fffe7e03c7eede2ad0a728ee516c4d342dd16107  ...           5.0\n",
              "380123  fffec230e6a1aa51ab37d0051ece42de611e71c6  ...           NaN\n",
              "380124  ffff0dcc1ab9812bf205b6d76e9d084053cd96f5  ...           6.0\n",
              "380125  ffff91ea6a09a0c8ea42bc6ae33df4b5e06283dc  ...          11.0\n",
              "380126  ffffb393b346f5348034e6e22be93778d94d4beb  ...           NaN\n",
              "\n",
              "[5 rows x 18 columns]"
            ]
          },
          "metadata": {},
          "execution_count": 8
        }
      ]
    },
    {
      "cell_type": "code",
      "metadata": {
        "colab": {
          "base_uri": "https://localhost:8080/"
        },
        "id": "5_kLwnF-RQn5",
        "outputId": "d8179671-602b-4bac-c250-6b2cecbb1347"
      },
      "source": [
        "test.shape"
      ],
      "execution_count": null,
      "outputs": [
        {
          "output_type": "execute_result",
          "data": {
            "text/plain": [
              "(380127, 18)"
            ]
          },
          "metadata": {},
          "execution_count": 9
        }
      ]
    },
    {
      "cell_type": "code",
      "metadata": {
        "colab": {
          "base_uri": "https://localhost:8080/"
        },
        "id": "XlripfsSRQn7",
        "outputId": "0aee86dd-1ca4-45fa-94e6-925efff54951"
      },
      "source": [
        "test.info()"
      ],
      "execution_count": null,
      "outputs": [
        {
          "output_type": "stream",
          "name": "stdout",
          "text": [
            "<class 'pandas.core.frame.DataFrame'>\n",
            "RangeIndex: 380127 entries, 0 to 380126\n",
            "Data columns (total 18 columns):\n",
            " #   Column          Non-Null Count   Dtype  \n",
            "---  ------          --------------   -----  \n",
            " 0   user_id         380127 non-null  object \n",
            " 1   REGION          230399 non-null  object \n",
            " 2   TENURE          380127 non-null  object \n",
            " 3   MONTANT         247072 non-null  float64\n",
            " 4   FREQUENCE_RECH  247072 non-null  float64\n",
            " 5   REVENUE         252754 non-null  float64\n",
            " 6   ARPU_SEGMENT    252754 non-null  float64\n",
            " 7   FREQUENCE       252754 non-null  float64\n",
            " 8   DATA_VOLUME     193087 non-null  float64\n",
            " 9   ON_NET          241613 non-null  float64\n",
            " 10  ORANGE          222897 non-null  float64\n",
            " 11  TIGO            153126 non-null  float64\n",
            " 12  ZONE1           29861 non-null   float64\n",
            " 13  ZONE2           24076 non-null   float64\n",
            " 14  MRG             380127 non-null  object \n",
            " 15  REGULARITY      380127 non-null  int64  \n",
            " 16  TOP_PACK        221348 non-null  object \n",
            " 17  FREQ_TOP_PACK   221348 non-null  float64\n",
            "dtypes: float64(12), int64(1), object(5)\n",
            "memory usage: 52.2+ MB\n"
          ]
        }
      ]
    },
    {
      "cell_type": "code",
      "metadata": {
        "colab": {
          "base_uri": "https://localhost:8080/",
          "height": 204
        },
        "id": "-q9cfc0URQn8",
        "outputId": "50dea594-9384-4781-b896-94747bca7023"
      },
      "source": [
        "submission.head()"
      ],
      "execution_count": null,
      "outputs": [
        {
          "output_type": "execute_result",
          "data": {
            "text/html": [
              "<div>\n",
              "<style scoped>\n",
              "    .dataframe tbody tr th:only-of-type {\n",
              "        vertical-align: middle;\n",
              "    }\n",
              "\n",
              "    .dataframe tbody tr th {\n",
              "        vertical-align: top;\n",
              "    }\n",
              "\n",
              "    .dataframe thead th {\n",
              "        text-align: right;\n",
              "    }\n",
              "</style>\n",
              "<table border=\"1\" class=\"dataframe\">\n",
              "  <thead>\n",
              "    <tr style=\"text-align: right;\">\n",
              "      <th></th>\n",
              "      <th>user_id</th>\n",
              "      <th>CHURN</th>\n",
              "    </tr>\n",
              "  </thead>\n",
              "  <tbody>\n",
              "    <tr>\n",
              "      <th>0</th>\n",
              "      <td>00001dbe00e56fc4b1c1b65dda63de2a5ece55f9</td>\n",
              "      <td>0</td>\n",
              "    </tr>\n",
              "    <tr>\n",
              "      <th>1</th>\n",
              "      <td>000055d41c8a62052dd426592e8a4a3342bf565d</td>\n",
              "      <td>0</td>\n",
              "    </tr>\n",
              "    <tr>\n",
              "      <th>2</th>\n",
              "      <td>000081dd3245e6869a4a9c574c7050e7bb84c2c8</td>\n",
              "      <td>0</td>\n",
              "    </tr>\n",
              "    <tr>\n",
              "      <th>3</th>\n",
              "      <td>0000b76d2145d9445d9ff6b65c9ebc4196c89337</td>\n",
              "      <td>0</td>\n",
              "    </tr>\n",
              "    <tr>\n",
              "      <th>4</th>\n",
              "      <td>0000bae5480628cf8fe51ad84bcb39772fc79224</td>\n",
              "      <td>0</td>\n",
              "    </tr>\n",
              "  </tbody>\n",
              "</table>\n",
              "</div>"
            ],
            "text/plain": [
              "                                    user_id  CHURN\n",
              "0  00001dbe00e56fc4b1c1b65dda63de2a5ece55f9      0\n",
              "1  000055d41c8a62052dd426592e8a4a3342bf565d      0\n",
              "2  000081dd3245e6869a4a9c574c7050e7bb84c2c8      0\n",
              "3  0000b76d2145d9445d9ff6b65c9ebc4196c89337      0\n",
              "4  0000bae5480628cf8fe51ad84bcb39772fc79224      0"
            ]
          },
          "metadata": {},
          "execution_count": 11
        }
      ]
    },
    {
      "cell_type": "code",
      "metadata": {
        "colab": {
          "base_uri": "https://localhost:8080/"
        },
        "id": "6jPuD28CRQn9",
        "outputId": "df7db952-b628-410a-adff-8348f4c99f7a"
      },
      "source": [
        "submission.shape"
      ],
      "execution_count": null,
      "outputs": [
        {
          "output_type": "execute_result",
          "data": {
            "text/plain": [
              "(380127, 2)"
            ]
          },
          "metadata": {},
          "execution_count": 12
        }
      ]
    },
    {
      "cell_type": "code",
      "metadata": {
        "id": "MlT4K_1fRQn-"
      },
      "source": [
        "#Check how many levels are involved in each of the categorical features (object)"
      ],
      "execution_count": null,
      "outputs": []
    },
    {
      "cell_type": "code",
      "metadata": {
        "colab": {
          "base_uri": "https://localhost:8080/",
          "height": 674
        },
        "id": "HIk6jqz_RQn-",
        "outputId": "22dc44f0-e2e9-4412-90d3-a5e270460fdf"
      },
      "source": [
        "print(train['REGION'].value_counts())\n",
        "plt.figure(figsize=(10,5))\n",
        "train['REGION'].value_counts(normalize=True).plot(kind='bar')\n",
        "plt.ylabel('counts')\n",
        "plt.xlabel('REGION')"
      ],
      "execution_count": null,
      "outputs": [
        {
          "output_type": "stream",
          "name": "stdout",
          "text": [
            "DAKAR          513271\n",
            "THIES          180052\n",
            "SAINT-LOUIS    119886\n",
            "LOUGA           99053\n",
            "KAOLACK         96986\n",
            "DIOURBEL        66911\n",
            "TAMBACOUNDA     55074\n",
            "KAFFRINE        43963\n",
            "KOLDA           38743\n",
            "FATICK          35643\n",
            "MATAM           29083\n",
            "ZIGUINCHOR      21945\n",
            "SEDHIOU          3119\n",
            "KEDOUGOU         1020\n",
            "Name: REGION, dtype: int64\n"
          ]
        },
        {
          "output_type": "execute_result",
          "data": {
            "text/plain": [
              "Text(0.5, 0, 'REGION')"
            ]
          },
          "metadata": {},
          "execution_count": 14
        },
        {
          "output_type": "display_data",
          "data": {
            "image/png": "[encoded data removed]",
            "text/plain": [
              "<Figure size 720x360 with 1 Axes>"
            ]
          },
          "metadata": {
            "needs_background": "light"
          }
        }
      ]
    },
    {
      "cell_type": "code",
      "metadata": {
        "colab": {
          "base_uri": "https://localhost:8080/",
          "height": 569
        },
        "id": "fmZD3yvFRQn_",
        "outputId": "7015d38e-8e79-4dba-cbd1-5ade16d20d4a"
      },
      "source": [
        "print(train['TENURE'].value_counts())\n",
        "plt.figure(figsize=(10,5))\n",
        "train['TENURE'].value_counts(normalize=True).plot(kind='bar')\n",
        "plt.ylabel('counts')\n",
        "plt.xlabel('TENURE')"
      ],
      "execution_count": null,
      "outputs": [
        {
          "output_type": "stream",
          "name": "stdout",
          "text": [
            "K > 24 month     2043201\n",
            "I 18-21 month      45278\n",
            "H 15-18 month      26006\n",
            "G 12-15 month      14901\n",
            "J 21-24 month      12725\n",
            "F 9-12 month        9328\n",
            "E 6-9 month         1839\n",
            "D 3-6 month          770\n",
            "Name: TENURE, dtype: int64\n"
          ]
        },
        {
          "output_type": "execute_result",
          "data": {
            "text/plain": [
              "Text(0.5, 0, 'TENURE')"
            ]
          },
          "metadata": {},
          "execution_count": 15
        },
        {
          "output_type": "display_data",
          "data": {
            "image/png": "[encoded data removed]",
            "text/plain": [
              "<Figure size 720x360 with 1 Axes>"
            ]
          },
          "metadata": {
            "needs_background": "light"
          }
        }
      ]
    },
    {
      "cell_type": "code",
      "metadata": {
        "colab": {
          "base_uri": "https://localhost:8080/",
          "height": 390
        },
        "id": "ahogsYxbRQoA",
        "outputId": "da745d54-f1b7-4ec7-bede-5a5c51442673"
      },
      "source": [
        "print(train['MRG'].value_counts())\n",
        "plt.figure(figsize=(10,5))\n",
        "train['MRG'].value_counts(normalize=True).plot(kind='bar')\n",
        "plt.ylabel('counts')\n",
        "plt.xlabel('MRG')"
      ],
      "execution_count": null,
      "outputs": [
        {
          "output_type": "stream",
          "name": "stdout",
          "text": [
            "NO    2154048\n",
            "Name: MRG, dtype: int64\n"
          ]
        },
        {
          "output_type": "execute_result",
          "data": {
            "text/plain": [
              "Text(0.5, 0, 'MRG')"
            ]
          },
          "metadata": {},
          "execution_count": 16
        },
        {
          "output_type": "display_data",
          "data": {
            "image/png": "[encoded data removed]",
            "text/plain": [
              "<Figure size 720x360 with 1 Axes>"
            ]
          },
          "metadata": {
            "needs_background": "light"
          }
        }
      ]
    },
    {
      "cell_type": "code",
      "metadata": {
        "colab": {
          "base_uri": "https://localhost:8080/",
          "height": 814
        },
        "id": "vGt4yaQHRQoA",
        "outputId": "a6dedf5f-0d61-446e-81d3-c99622661058"
      },
      "source": [
        "#probaly not the best way to visualize this\n",
        "print(train['TOP_PACK'].value_counts())\n",
        "plt.figure(figsize=(10,5))\n",
        "train['TOP_PACK'].value_counts(normalize=True).plot(kind='bar')\n",
        "plt.ylabel('counts')\n",
        "plt.xlabel('TOP_PACK')"
      ],
      "execution_count": null,
      "outputs": [
        {
          "output_type": "stream",
          "name": "stdout",
          "text": [
            "All-net 500F=2000F;5d             317802\n",
            "On net 200F=Unlimited _call24H    152295\n",
            "Data:490F=1GB,7d                  115180\n",
            "Data: 100 F=40MB,24H               84649\n",
            "Mixt 250F=Unlimited_call24H        67512\n",
            "                                   ...  \n",
            "Data_Mifi_20Go                         1\n",
            "YMGX on-net 100=700F, 24H              1\n",
            "1500=Unlimited7Day                     1\n",
            "GPRS_5Go_7D_PORTAL                     1\n",
            "FIFA_TS_monthly                        1\n",
            "Name: TOP_PACK, Length: 140, dtype: int64\n"
          ]
        },
        {
          "output_type": "execute_result",
          "data": {
            "text/plain": [
              "Text(0.5, 0, 'TOP_PACK')"
            ]
          },
          "metadata": {},
          "execution_count": 17
        },
        {
          "output_type": "display_data",
          "data": {
            "image/png": "[encoded data removed]",
            "text/plain": [
              "<Figure size 720x360 with 1 Axes>"
            ]
          },
          "metadata": {
            "needs_background": "light"
          }
        }
      ]
    },
    {
      "cell_type": "code",
      "metadata": {
        "colab": {
          "base_uri": "https://localhost:8080/",
          "height": 398
        },
        "id": "l_NEAT1mRQoB",
        "outputId": "613e13fd-21c4-4441-cd4c-039cf6a2deaf"
      },
      "source": [
        "#Check if the predictor class is balanced\n",
        "print(train['CHURN'].value_counts())\n",
        "plt.figure(figsize=(10,5))\n",
        "train['CHURN'].value_counts(normalize=True).plot(kind='bar')\n",
        "plt.ylabel('counts')\n",
        "plt.xlabel('Churn')"
      ],
      "execution_count": null,
      "outputs": [
        {
          "output_type": "stream",
          "name": "stdout",
          "text": [
            "0    1750062\n",
            "1     403986\n",
            "Name: CHURN, dtype: int64\n"
          ]
        },
        {
          "output_type": "execute_result",
          "data": {
            "text/plain": [
              "Text(0.5, 0, 'Churn')"
            ]
          },
          "metadata": {},
          "execution_count": 18
        },
        {
          "output_type": "display_data",
          "data": {
            "image/png": "[encoded data removed]",
            "text/plain": [
              "<Figure size 720x360 with 1 Axes>"
            ]
          },
          "metadata": {
            "needs_background": "light"
          }
        }
      ]
    },
    {
      "cell_type": "code",
      "metadata": {
        "colab": {
          "base_uri": "https://localhost:8080/",
          "height": 483
        },
        "id": "TnDkOPkDRQoC",
        "outputId": "1b1b019c-47c5-427d-96bd-0f06a9d664f7"
      },
      "source": [
        "#Check summary of numerical fields\n",
        "train.select_dtypes(include=['int64', 'float64']).describe().T"
      ],
      "execution_count": null,
      "outputs": [
        {
          "output_type": "execute_result",
          "data": {
            "text/html": [
              "<div>\n",
              "<style scoped>\n",
              "    .dataframe tbody tr th:only-of-type {\n",
              "        vertical-align: middle;\n",
              "    }\n",
              "\n",
              "    .dataframe tbody tr th {\n",
              "        vertical-align: top;\n",
              "    }\n",
              "\n",
              "    .dataframe thead th {\n",
              "        text-align: right;\n",
              "    }\n",
              "</style>\n",
              "<table border=\"1\" class=\"dataframe\">\n",
              "  <thead>\n",
              "    <tr style=\"text-align: right;\">\n",
              "      <th></th>\n",
              "      <th>count</th>\n",
              "      <th>mean</th>\n",
              "      <th>std</th>\n",
              "      <th>min</th>\n",
              "      <th>25%</th>\n",
              "      <th>50%</th>\n",
              "      <th>75%</th>\n",
              "      <th>max</th>\n",
              "    </tr>\n",
              "  </thead>\n",
              "  <tbody>\n",
              "    <tr>\n",
              "      <th>MONTANT</th>\n",
              "      <td>1397309.0</td>\n",
              "      <td>5532.116998</td>\n",
              "      <td>7111.339421</td>\n",
              "      <td>10.0</td>\n",
              "      <td>1000.0</td>\n",
              "      <td>3000.0</td>\n",
              "      <td>7350.0</td>\n",
              "      <td>470000.0</td>\n",
              "    </tr>\n",
              "    <tr>\n",
              "      <th>FREQUENCE_RECH</th>\n",
              "      <td>1397309.0</td>\n",
              "      <td>11.529120</td>\n",
              "      <td>13.274070</td>\n",
              "      <td>1.0</td>\n",
              "      <td>2.0</td>\n",
              "      <td>7.0</td>\n",
              "      <td>16.0</td>\n",
              "      <td>133.0</td>\n",
              "    </tr>\n",
              "    <tr>\n",
              "      <th>REVENUE</th>\n",
              "      <td>1428000.0</td>\n",
              "      <td>5510.810334</td>\n",
              "      <td>7187.112880</td>\n",
              "      <td>1.0</td>\n",
              "      <td>1000.0</td>\n",
              "      <td>3000.0</td>\n",
              "      <td>7368.0</td>\n",
              "      <td>532177.0</td>\n",
              "    </tr>\n",
              "    <tr>\n",
              "      <th>ARPU_SEGMENT</th>\n",
              "      <td>1428000.0</td>\n",
              "      <td>1836.942894</td>\n",
              "      <td>2395.699954</td>\n",
              "      <td>0.0</td>\n",
              "      <td>333.0</td>\n",
              "      <td>1000.0</td>\n",
              "      <td>2456.0</td>\n",
              "      <td>177392.0</td>\n",
              "    </tr>\n",
              "    <tr>\n",
              "      <th>FREQUENCE</th>\n",
              "      <td>1428000.0</td>\n",
              "      <td>13.978141</td>\n",
              "      <td>14.694035</td>\n",
              "      <td>1.0</td>\n",
              "      <td>3.0</td>\n",
              "      <td>9.0</td>\n",
              "      <td>20.0</td>\n",
              "      <td>91.0</td>\n",
              "    </tr>\n",
              "    <tr>\n",
              "      <th>DATA_VOLUME</th>\n",
              "      <td>1093615.0</td>\n",
              "      <td>3366.450167</td>\n",
              "      <td>13304.463667</td>\n",
              "      <td>0.0</td>\n",
              "      <td>0.0</td>\n",
              "      <td>257.0</td>\n",
              "      <td>2895.0</td>\n",
              "      <td>1823866.0</td>\n",
              "    </tr>\n",
              "    <tr>\n",
              "      <th>ON_NET</th>\n",
              "      <td>1367373.0</td>\n",
              "      <td>277.689140</td>\n",
              "      <td>872.688909</td>\n",
              "      <td>0.0</td>\n",
              "      <td>5.0</td>\n",
              "      <td>27.0</td>\n",
              "      <td>156.0</td>\n",
              "      <td>50809.0</td>\n",
              "    </tr>\n",
              "    <tr>\n",
              "      <th>ORANGE</th>\n",
              "      <td>1258800.0</td>\n",
              "      <td>95.418711</td>\n",
              "      <td>204.987266</td>\n",
              "      <td>0.0</td>\n",
              "      <td>7.0</td>\n",
              "      <td>29.0</td>\n",
              "      <td>99.0</td>\n",
              "      <td>21323.0</td>\n",
              "    </tr>\n",
              "    <tr>\n",
              "      <th>TIGO</th>\n",
              "      <td>864032.0</td>\n",
              "      <td>23.109253</td>\n",
              "      <td>63.578086</td>\n",
              "      <td>0.0</td>\n",
              "      <td>2.0</td>\n",
              "      <td>6.0</td>\n",
              "      <td>20.0</td>\n",
              "      <td>4174.0</td>\n",
              "    </tr>\n",
              "    <tr>\n",
              "      <th>ZONE1</th>\n",
              "      <td>169721.0</td>\n",
              "      <td>8.170132</td>\n",
              "      <td>41.169511</td>\n",
              "      <td>0.0</td>\n",
              "      <td>0.0</td>\n",
              "      <td>1.0</td>\n",
              "      <td>3.0</td>\n",
              "      <td>4792.0</td>\n",
              "    </tr>\n",
              "    <tr>\n",
              "      <th>ZONE2</th>\n",
              "      <td>136824.0</td>\n",
              "      <td>7.553309</td>\n",
              "      <td>33.487234</td>\n",
              "      <td>0.0</td>\n",
              "      <td>0.0</td>\n",
              "      <td>2.0</td>\n",
              "      <td>5.0</td>\n",
              "      <td>3697.0</td>\n",
              "    </tr>\n",
              "    <tr>\n",
              "      <th>REGULARITY</th>\n",
              "      <td>2154048.0</td>\n",
              "      <td>28.042505</td>\n",
              "      <td>22.286857</td>\n",
              "      <td>1.0</td>\n",
              "      <td>6.0</td>\n",
              "      <td>24.0</td>\n",
              "      <td>51.0</td>\n",
              "      <td>62.0</td>\n",
              "    </tr>\n",
              "    <tr>\n",
              "      <th>FREQ_TOP_PACK</th>\n",
              "      <td>1251454.0</td>\n",
              "      <td>9.272461</td>\n",
              "      <td>12.280443</td>\n",
              "      <td>1.0</td>\n",
              "      <td>2.0</td>\n",
              "      <td>5.0</td>\n",
              "      <td>12.0</td>\n",
              "      <td>713.0</td>\n",
              "    </tr>\n",
              "    <tr>\n",
              "      <th>CHURN</th>\n",
              "      <td>2154048.0</td>\n",
              "      <td>0.187547</td>\n",
              "      <td>0.390350</td>\n",
              "      <td>0.0</td>\n",
              "      <td>0.0</td>\n",
              "      <td>0.0</td>\n",
              "      <td>0.0</td>\n",
              "      <td>1.0</td>\n",
              "    </tr>\n",
              "  </tbody>\n",
              "</table>\n",
              "</div>"
            ],
            "text/plain": [
              "                    count         mean           std  ...     50%     75%        max\n",
              "MONTANT         1397309.0  5532.116998   7111.339421  ...  3000.0  7350.0   470000.0\n",
              "FREQUENCE_RECH  1397309.0    11.529120     13.274070  ...     7.0    16.0      133.0\n",
              "REVENUE         1428000.0  5510.810334   7187.112880  ...  3000.0  7368.0   532177.0\n",
              "ARPU_SEGMENT    1428000.0  1836.942894   2395.699954  ...  1000.0  2456.0   177392.0\n",
              "FREQUENCE       1428000.0    13.978141     14.694035  ...     9.0    20.0       91.0\n",
              "DATA_VOLUME     1093615.0  3366.450167  13304.463667  ...   257.0  2895.0  1823866.0\n",
              "ON_NET          1367373.0   277.689140    872.688909  ...    27.0   156.0    50809.0\n",
              "ORANGE          1258800.0    95.418711    204.987266  ...    29.0    99.0    21323.0\n",
              "TIGO             864032.0    23.109253     63.578086  ...     6.0    20.0     4174.0\n",
              "ZONE1            169721.0     8.170132     41.169511  ...     1.0     3.0     4792.0\n",
              "ZONE2            136824.0     7.553309     33.487234  ...     2.0     5.0     3697.0\n",
              "REGULARITY      2154048.0    28.042505     22.286857  ...    24.0    51.0       62.0\n",
              "FREQ_TOP_PACK   1251454.0     9.272461     12.280443  ...     5.0    12.0      713.0\n",
              "CHURN           2154048.0     0.187547      0.390350  ...     0.0     0.0        1.0\n",
              "\n",
              "[14 rows x 8 columns]"
            ]
          },
          "metadata": {},
          "execution_count": 19
        }
      ]
    },
    {
      "cell_type": "code",
      "metadata": {
        "colab": {
          "base_uri": "https://localhost:8080/"
        },
        "id": "B4nkHMpdRQoC",
        "outputId": "8bde1eac-23e6-4df7-cc28-fb99d83f847e"
      },
      "source": [
        "#Check for missing values in training data\n",
        "train.isnull().sum()"
      ],
      "execution_count": null,
      "outputs": [
        {
          "output_type": "execute_result",
          "data": {
            "text/plain": [
              "user_id                 0\n",
              "REGION             849299\n",
              "TENURE                  0\n",
              "MONTANT            756739\n",
              "FREQUENCE_RECH     756739\n",
              "REVENUE            726048\n",
              "ARPU_SEGMENT       726048\n",
              "FREQUENCE          726048\n",
              "DATA_VOLUME       1060433\n",
              "ON_NET             786675\n",
              "ORANGE             895248\n",
              "TIGO              1290016\n",
              "ZONE1             1984327\n",
              "ZONE2             2017224\n",
              "MRG                     0\n",
              "REGULARITY              0\n",
              "TOP_PACK           902594\n",
              "FREQ_TOP_PACK      902594\n",
              "CHURN                   0\n",
              "dtype: int64"
            ]
          },
          "metadata": {},
          "execution_count": 20
        }
      ]
    },
    {
      "cell_type": "code",
      "metadata": {
        "colab": {
          "base_uri": "https://localhost:8080/"
        },
        "id": "Nz7Kj0jDRQoD",
        "outputId": "a7341327-5d31-4e16-d7f7-879f8addda7c"
      },
      "source": [
        "#Check for missing values in test data\n",
        "test.isnull().sum()"
      ],
      "execution_count": null,
      "outputs": [
        {
          "output_type": "execute_result",
          "data": {
            "text/plain": [
              "user_id                0\n",
              "REGION            149728\n",
              "TENURE                 0\n",
              "MONTANT           133055\n",
              "FREQUENCE_RECH    133055\n",
              "REVENUE           127373\n",
              "ARPU_SEGMENT      127373\n",
              "FREQUENCE         127373\n",
              "DATA_VOLUME       187040\n",
              "ON_NET            138514\n",
              "ORANGE            157230\n",
              "TIGO              227001\n",
              "ZONE1             350266\n",
              "ZONE2             356051\n",
              "MRG                    0\n",
              "REGULARITY             0\n",
              "TOP_PACK          158779\n",
              "FREQ_TOP_PACK     158779\n",
              "dtype: int64"
            ]
          },
          "metadata": {},
          "execution_count": 21
        }
      ]
    },
    {
      "cell_type": "code",
      "metadata": {
        "id": "Txa4nniDRQoD"
      },
      "source": [
        "#We will drop REGION, TOP_PACK, and MRG\n",
        "#We will also replace the missing values for the numerical columns with their means (averages)"
      ],
      "execution_count": null,
      "outputs": []
    },
    {
      "cell_type": "code",
      "metadata": {
        "id": "a_tWl0JsRQoD"
      },
      "source": [
        "train.drop(columns=['REGION', 'MRG', 'TENURE'], inplace=True) #drop these columns"
      ],
      "execution_count": null,
      "outputs": []
    },
    {
      "cell_type": "code",
      "metadata": {
        "colab": {
          "base_uri": "https://localhost:8080/",
          "height": 309
        },
        "id": "P1QqbLuWRQoE",
        "outputId": "2b020c7b-24c7-41cf-a53b-146663a0b96f"
      },
      "source": [
        "train.head()"
      ],
      "execution_count": null,
      "outputs": [
        {
          "output_type": "execute_result",
          "data": {
            "text/html": [
              "<div>\n",
              "<style scoped>\n",
              "    .dataframe tbody tr th:only-of-type {\n",
              "        vertical-align: middle;\n",
              "    }\n",
              "\n",
              "    .dataframe tbody tr th {\n",
              "        vertical-align: top;\n",
              "    }\n",
              "\n",
              "    .dataframe thead th {\n",
              "        text-align: right;\n",
              "    }\n",
              "</style>\n",
              "<table border=\"1\" class=\"dataframe\">\n",
              "  <thead>\n",
              "    <tr style=\"text-align: right;\">\n",
              "      <th></th>\n",
              "      <th>user_id</th>\n",
              "      <th>TENURE</th>\n",
              "      <th>MONTANT</th>\n",
              "      <th>FREQUENCE_RECH</th>\n",
              "      <th>REVENUE</th>\n",
              "      <th>ARPU_SEGMENT</th>\n",
              "      <th>FREQUENCE</th>\n",
              "      <th>DATA_VOLUME</th>\n",
              "      <th>ON_NET</th>\n",
              "      <th>ORANGE</th>\n",
              "      <th>TIGO</th>\n",
              "      <th>ZONE1</th>\n",
              "      <th>ZONE2</th>\n",
              "      <th>REGULARITY</th>\n",
              "      <th>TOP_PACK</th>\n",
              "      <th>FREQ_TOP_PACK</th>\n",
              "      <th>CHURN</th>\n",
              "    </tr>\n",
              "  </thead>\n",
              "  <tbody>\n",
              "    <tr>\n",
              "      <th>0</th>\n",
              "      <td>00000bfd7d50f01092811bc0c8d7b0d6fe7c3596</td>\n",
              "      <td>K &gt; 24 month</td>\n",
              "      <td>4250.0</td>\n",
              "      <td>15.0</td>\n",
              "      <td>4251.0</td>\n",
              "      <td>1417.0</td>\n",
              "      <td>17.0</td>\n",
              "      <td>4.0</td>\n",
              "      <td>388.0</td>\n",
              "      <td>46.0</td>\n",
              "      <td>1.0</td>\n",
              "      <td>1.0</td>\n",
              "      <td>2.0</td>\n",
              "      <td>54</td>\n",
              "      <td>On net 200F=Unlimited _call24H</td>\n",
              "      <td>8.0</td>\n",
              "      <td>0</td>\n",
              "    </tr>\n",
              "    <tr>\n",
              "      <th>1</th>\n",
              "      <td>00000cb4a5d760de88fecb38e2f71b7bec52e834</td>\n",
              "      <td>I 18-21 month</td>\n",
              "      <td>NaN</td>\n",
              "      <td>NaN</td>\n",
              "      <td>NaN</td>\n",
              "      <td>NaN</td>\n",
              "      <td>NaN</td>\n",
              "      <td>NaN</td>\n",
              "      <td>NaN</td>\n",
              "      <td>NaN</td>\n",
              "      <td>NaN</td>\n",
              "      <td>NaN</td>\n",
              "      <td>NaN</td>\n",
              "      <td>4</td>\n",
              "      <td>NaN</td>\n",
              "      <td>NaN</td>\n",
              "      <td>1</td>\n",
              "    </tr>\n",
              "    <tr>\n",
              "      <th>2</th>\n",
              "      <td>00001654a9d9f96303d9969d0a4a851714a4bb57</td>\n",
              "      <td>K &gt; 24 month</td>\n",
              "      <td>3600.0</td>\n",
              "      <td>2.0</td>\n",
              "      <td>1020.0</td>\n",
              "      <td>340.0</td>\n",
              "      <td>2.0</td>\n",
              "      <td>NaN</td>\n",
              "      <td>90.0</td>\n",
              "      <td>46.0</td>\n",
              "      <td>7.0</td>\n",
              "      <td>NaN</td>\n",
              "      <td>NaN</td>\n",
              "      <td>17</td>\n",
              "      <td>On-net 1000F=10MilF;10d</td>\n",
              "      <td>1.0</td>\n",
              "      <td>0</td>\n",
              "    </tr>\n",
              "    <tr>\n",
              "      <th>3</th>\n",
              "      <td>00001dd6fa45f7ba044bd5d84937be464ce78ac2</td>\n",
              "      <td>K &gt; 24 month</td>\n",
              "      <td>13500.0</td>\n",
              "      <td>15.0</td>\n",
              "      <td>13502.0</td>\n",
              "      <td>4501.0</td>\n",
              "      <td>18.0</td>\n",
              "      <td>43804.0</td>\n",
              "      <td>41.0</td>\n",
              "      <td>102.0</td>\n",
              "      <td>2.0</td>\n",
              "      <td>NaN</td>\n",
              "      <td>NaN</td>\n",
              "      <td>62</td>\n",
              "      <td>Data:1000F=5GB,7d</td>\n",
              "      <td>11.0</td>\n",
              "      <td>0</td>\n",
              "    </tr>\n",
              "    <tr>\n",
              "      <th>4</th>\n",
              "      <td>000028d9e13a595abe061f9b58f3d76ab907850f</td>\n",
              "      <td>K &gt; 24 month</td>\n",
              "      <td>1000.0</td>\n",
              "      <td>1.0</td>\n",
              "      <td>985.0</td>\n",
              "      <td>328.0</td>\n",
              "      <td>1.0</td>\n",
              "      <td>NaN</td>\n",
              "      <td>39.0</td>\n",
              "      <td>24.0</td>\n",
              "      <td>NaN</td>\n",
              "      <td>NaN</td>\n",
              "      <td>NaN</td>\n",
              "      <td>11</td>\n",
              "      <td>Mixt 250F=Unlimited_call24H</td>\n",
              "      <td>2.0</td>\n",
              "      <td>0</td>\n",
              "    </tr>\n",
              "  </tbody>\n",
              "</table>\n",
              "</div>"
            ],
            "text/plain": [
              "                                    user_id  ... CHURN\n",
              "0  00000bfd7d50f01092811bc0c8d7b0d6fe7c3596  ...     0\n",
              "1  00000cb4a5d760de88fecb38e2f71b7bec52e834  ...     1\n",
              "2  00001654a9d9f96303d9969d0a4a851714a4bb57  ...     0\n",
              "3  00001dd6fa45f7ba044bd5d84937be464ce78ac2  ...     0\n",
              "4  000028d9e13a595abe061f9b58f3d76ab907850f  ...     0\n",
              "\n",
              "[5 rows x 17 columns]"
            ]
          },
          "metadata": {},
          "execution_count": 24
        }
      ]
    },
    {
      "cell_type": "code",
      "metadata": {
        "id": "MDG7P2tIRQoE"
      },
      "source": [
        "test.drop(columns=['REGION', 'MRG', 'TENURE'], inplace=True)"
      ],
      "execution_count": null,
      "outputs": []
    },
    {
      "cell_type": "code",
      "metadata": {
        "colab": {
          "base_uri": "https://localhost:8080/",
          "height": 309
        },
        "id": "uVMHic5SRQoE",
        "outputId": "054812c5-ea80-4f9e-eb14-4d6ffa8bd520"
      },
      "source": [
        "test.head()"
      ],
      "execution_count": null,
      "outputs": [
        {
          "output_type": "execute_result",
          "data": {
            "text/html": [
              "<div>\n",
              "<style scoped>\n",
              "    .dataframe tbody tr th:only-of-type {\n",
              "        vertical-align: middle;\n",
              "    }\n",
              "\n",
              "    .dataframe tbody tr th {\n",
              "        vertical-align: top;\n",
              "    }\n",
              "\n",
              "    .dataframe thead th {\n",
              "        text-align: right;\n",
              "    }\n",
              "</style>\n",
              "<table border=\"1\" class=\"dataframe\">\n",
              "  <thead>\n",
              "    <tr style=\"text-align: right;\">\n",
              "      <th></th>\n",
              "      <th>user_id</th>\n",
              "      <th>TENURE</th>\n",
              "      <th>MONTANT</th>\n",
              "      <th>FREQUENCE_RECH</th>\n",
              "      <th>REVENUE</th>\n",
              "      <th>ARPU_SEGMENT</th>\n",
              "      <th>FREQUENCE</th>\n",
              "      <th>DATA_VOLUME</th>\n",
              "      <th>ON_NET</th>\n",
              "      <th>ORANGE</th>\n",
              "      <th>TIGO</th>\n",
              "      <th>ZONE1</th>\n",
              "      <th>ZONE2</th>\n",
              "      <th>REGULARITY</th>\n",
              "      <th>TOP_PACK</th>\n",
              "      <th>FREQ_TOP_PACK</th>\n",
              "    </tr>\n",
              "  </thead>\n",
              "  <tbody>\n",
              "    <tr>\n",
              "      <th>0</th>\n",
              "      <td>00001dbe00e56fc4b1c1b65dda63de2a5ece55f9</td>\n",
              "      <td>K &gt; 24 month</td>\n",
              "      <td>5000.0</td>\n",
              "      <td>5.0</td>\n",
              "      <td>5000.0</td>\n",
              "      <td>1667.0</td>\n",
              "      <td>5.0</td>\n",
              "      <td>NaN</td>\n",
              "      <td>378.0</td>\n",
              "      <td>11.0</td>\n",
              "      <td>5.0</td>\n",
              "      <td>NaN</td>\n",
              "      <td>NaN</td>\n",
              "      <td>42</td>\n",
              "      <td>On-net 1000F=10MilF;10d</td>\n",
              "      <td>5.0</td>\n",
              "    </tr>\n",
              "    <tr>\n",
              "      <th>1</th>\n",
              "      <td>000055d41c8a62052dd426592e8a4a3342bf565d</td>\n",
              "      <td>I 18-21 month</td>\n",
              "      <td>300.0</td>\n",
              "      <td>2.0</td>\n",
              "      <td>326.0</td>\n",
              "      <td>109.0</td>\n",
              "      <td>3.0</td>\n",
              "      <td>397.0</td>\n",
              "      <td>NaN</td>\n",
              "      <td>0.0</td>\n",
              "      <td>NaN</td>\n",
              "      <td>NaN</td>\n",
              "      <td>NaN</td>\n",
              "      <td>41</td>\n",
              "      <td>Data: 100 F=40MB,24H</td>\n",
              "      <td>1.0</td>\n",
              "    </tr>\n",
              "    <tr>\n",
              "      <th>2</th>\n",
              "      <td>000081dd3245e6869a4a9c574c7050e7bb84c2c8</td>\n",
              "      <td>K &gt; 24 month</td>\n",
              "      <td>3300.0</td>\n",
              "      <td>25.0</td>\n",
              "      <td>3400.0</td>\n",
              "      <td>1133.0</td>\n",
              "      <td>26.0</td>\n",
              "      <td>7150.0</td>\n",
              "      <td>0.0</td>\n",
              "      <td>2.0</td>\n",
              "      <td>5.0</td>\n",
              "      <td>NaN</td>\n",
              "      <td>NaN</td>\n",
              "      <td>57</td>\n",
              "      <td>Data: 100 F=40MB,24H</td>\n",
              "      <td>22.0</td>\n",
              "    </tr>\n",
              "    <tr>\n",
              "      <th>3</th>\n",
              "      <td>0000b76d2145d9445d9ff6b65c9ebc4196c89337</td>\n",
              "      <td>K &gt; 24 month</td>\n",
              "      <td>NaN</td>\n",
              "      <td>NaN</td>\n",
              "      <td>NaN</td>\n",
              "      <td>NaN</td>\n",
              "      <td>NaN</td>\n",
              "      <td>NaN</td>\n",
              "      <td>NaN</td>\n",
              "      <td>NaN</td>\n",
              "      <td>NaN</td>\n",
              "      <td>NaN</td>\n",
              "      <td>NaN</td>\n",
              "      <td>9</td>\n",
              "      <td>NaN</td>\n",
              "      <td>NaN</td>\n",
              "    </tr>\n",
              "    <tr>\n",
              "      <th>4</th>\n",
              "      <td>0000bae5480628cf8fe51ad84bcb39772fc79224</td>\n",
              "      <td>K &gt; 24 month</td>\n",
              "      <td>NaN</td>\n",
              "      <td>NaN</td>\n",
              "      <td>NaN</td>\n",
              "      <td>NaN</td>\n",
              "      <td>NaN</td>\n",
              "      <td>NaN</td>\n",
              "      <td>NaN</td>\n",
              "      <td>NaN</td>\n",
              "      <td>NaN</td>\n",
              "      <td>NaN</td>\n",
              "      <td>NaN</td>\n",
              "      <td>10</td>\n",
              "      <td>NaN</td>\n",
              "      <td>NaN</td>\n",
              "    </tr>\n",
              "  </tbody>\n",
              "</table>\n",
              "</div>"
            ],
            "text/plain": [
              "                                    user_id  ... FREQ_TOP_PACK\n",
              "0  00001dbe00e56fc4b1c1b65dda63de2a5ece55f9  ...           5.0\n",
              "1  000055d41c8a62052dd426592e8a4a3342bf565d  ...           1.0\n",
              "2  000081dd3245e6869a4a9c574c7050e7bb84c2c8  ...          22.0\n",
              "3  0000b76d2145d9445d9ff6b65c9ebc4196c89337  ...           NaN\n",
              "4  0000bae5480628cf8fe51ad84bcb39772fc79224  ...           NaN\n",
              "\n",
              "[5 rows x 16 columns]"
            ]
          },
          "metadata": {},
          "execution_count": 26
        }
      ]
    },
    {
      "cell_type": "code",
      "metadata": {
        "id": "HCwjz_meRQoF"
      },
      "source": [
        "#Fill NAs for train data"
      ],
      "execution_count": null,
      "outputs": []
    },
    {
      "cell_type": "code",
      "metadata": {
        "id": "bM6v_tyWRQoF"
      },
      "source": [
        "train['MONTANT'].fillna((train['MONTANT'].mean()), inplace=True)\n",
        "train['FREQUENCE_RECH'].fillna((train['FREQUENCE_RECH'].mean()), inplace=True)\n",
        "train['REVENUE'].fillna((train['REVENUE'].mean()), inplace=True)\n",
        "train['ARPU_SEGMENT'].fillna((train['ARPU_SEGMENT'].mean()), inplace=True)\n",
        "train['FREQUENCE'].fillna((train['FREQUENCE'].mean()), inplace=True)\n",
        "train['DATA_VOLUME'].fillna((train['DATA_VOLUME'].mean()), inplace=True)\n",
        "train['ON_NET'].fillna((train['ON_NET'].mean()), inplace=True)\n",
        "train['ORANGE'].fillna((train['ORANGE'].mean()), inplace=True)\n",
        "train['TIGO'].fillna((train['TIGO'].mean()), inplace=True)\n",
        "train['ZONE1'].fillna((train['ZONE1'].mean()), inplace=True)\n",
        "train['ZONE2'].fillna((train['ZONE2'].mean()), inplace=True)\n",
        "train['FREQ_TOP_PACK'].fillna((train['FREQ_TOP_PACK'].mean()), inplace=True)"
      ],
      "execution_count": null,
      "outputs": []
    },
    {
      "cell_type": "code",
      "metadata": {
        "id": "aGVXrKvTwUbz"
      },
      "source": [
        "from sklearn.preprocessing import LabelEncoder"
      ],
      "execution_count": null,
      "outputs": []
    },
    {
      "cell_type": "code",
      "metadata": {
        "id": "amL4bncmtpGK"
      },
      "source": [
        "encoder = LabelEncoder()\n",
        "train[\"TOP_PACK\"] = encoder.fit_transform(train[\"TOP_PACK\"])\n",
        "train[\"user_id\"] = encoder.fit_transform(train[\"user_id\"])\n",
        "# train[\"TENURE\"] = encoder.fit_transform(train[\"TENURE\"])"
      ],
      "execution_count": null,
      "outputs": []
    },
    {
      "cell_type": "code",
      "metadata": {
        "id": "LKeaCY_fwpyq"
      },
      "source": [
        "train['TOP_PACK'].fillna((train['TOP_PACK'].mean()), inplace=True)"
      ],
      "execution_count": null,
      "outputs": []
    },
    {
      "cell_type": "code",
      "metadata": {
        "colab": {
          "base_uri": "https://localhost:8080/",
          "height": 224
        },
        "id": "SK6pgPzzRQoG",
        "outputId": "3e7fb39d-0177-4a42-fec2-f3a2ca458381"
      },
      "source": [
        "train.head()"
      ],
      "execution_count": null,
      "outputs": [
        {
          "output_type": "execute_result",
          "data": {
            "text/html": [
              "<div>\n",
              "<style scoped>\n",
              "    .dataframe tbody tr th:only-of-type {\n",
              "        vertical-align: middle;\n",
              "    }\n",
              "\n",
              "    .dataframe tbody tr th {\n",
              "        vertical-align: top;\n",
              "    }\n",
              "\n",
              "    .dataframe thead th {\n",
              "        text-align: right;\n",
              "    }\n",
              "</style>\n",
              "<table border=\"1\" class=\"dataframe\">\n",
              "  <thead>\n",
              "    <tr style=\"text-align: right;\">\n",
              "      <th></th>\n",
              "      <th>user_id</th>\n",
              "      <th>TENURE</th>\n",
              "      <th>MONTANT</th>\n",
              "      <th>FREQUENCE_RECH</th>\n",
              "      <th>REVENUE</th>\n",
              "      <th>ARPU_SEGMENT</th>\n",
              "      <th>FREQUENCE</th>\n",
              "      <th>DATA_VOLUME</th>\n",
              "      <th>ON_NET</th>\n",
              "      <th>ORANGE</th>\n",
              "      <th>TIGO</th>\n",
              "      <th>ZONE1</th>\n",
              "      <th>ZONE2</th>\n",
              "      <th>REGULARITY</th>\n",
              "      <th>TOP_PACK</th>\n",
              "      <th>FREQ_TOP_PACK</th>\n",
              "      <th>CHURN</th>\n",
              "    </tr>\n",
              "  </thead>\n",
              "  <tbody>\n",
              "    <tr>\n",
              "      <th>0</th>\n",
              "      <td>0</td>\n",
              "      <td>7</td>\n",
              "      <td>4250.000000</td>\n",
              "      <td>15.00000</td>\n",
              "      <td>4251.000000</td>\n",
              "      <td>1417.000000</td>\n",
              "      <td>17.000000</td>\n",
              "      <td>4.000000</td>\n",
              "      <td>388.00000</td>\n",
              "      <td>46.000000</td>\n",
              "      <td>1.000000</td>\n",
              "      <td>1.000000</td>\n",
              "      <td>2.000000</td>\n",
              "      <td>54</td>\n",
              "      <td>107</td>\n",
              "      <td>8.000000</td>\n",
              "      <td>0</td>\n",
              "    </tr>\n",
              "    <tr>\n",
              "      <th>1</th>\n",
              "      <td>1</td>\n",
              "      <td>5</td>\n",
              "      <td>5532.116998</td>\n",
              "      <td>11.52912</td>\n",
              "      <td>5510.810334</td>\n",
              "      <td>1836.942894</td>\n",
              "      <td>13.978141</td>\n",
              "      <td>3366.450167</td>\n",
              "      <td>277.68914</td>\n",
              "      <td>95.418711</td>\n",
              "      <td>23.109253</td>\n",
              "      <td>8.170132</td>\n",
              "      <td>7.553309</td>\n",
              "      <td>4</td>\n",
              "      <td>140</td>\n",
              "      <td>9.272461</td>\n",
              "      <td>1</td>\n",
              "    </tr>\n",
              "    <tr>\n",
              "      <th>2</th>\n",
              "      <td>2</td>\n",
              "      <td>7</td>\n",
              "      <td>3600.000000</td>\n",
              "      <td>2.00000</td>\n",
              "      <td>1020.000000</td>\n",
              "      <td>340.000000</td>\n",
              "      <td>2.000000</td>\n",
              "      <td>3366.450167</td>\n",
              "      <td>90.00000</td>\n",
              "      <td>46.000000</td>\n",
              "      <td>7.000000</td>\n",
              "      <td>8.170132</td>\n",
              "      <td>7.553309</td>\n",
              "      <td>17</td>\n",
              "      <td>108</td>\n",
              "      <td>1.000000</td>\n",
              "      <td>0</td>\n",
              "    </tr>\n",
              "    <tr>\n",
              "      <th>3</th>\n",
              "      <td>3</td>\n",
              "      <td>7</td>\n",
              "      <td>13500.000000</td>\n",
              "      <td>15.00000</td>\n",
              "      <td>13502.000000</td>\n",
              "      <td>4501.000000</td>\n",
              "      <td>18.000000</td>\n",
              "      <td>43804.000000</td>\n",
              "      <td>41.00000</td>\n",
              "      <td>102.000000</td>\n",
              "      <td>2.000000</td>\n",
              "      <td>8.170132</td>\n",
              "      <td>7.553309</td>\n",
              "      <td>62</td>\n",
              "      <td>35</td>\n",
              "      <td>11.000000</td>\n",
              "      <td>0</td>\n",
              "    </tr>\n",
              "    <tr>\n",
              "      <th>4</th>\n",
              "      <td>4</td>\n",
              "      <td>7</td>\n",
              "      <td>1000.000000</td>\n",
              "      <td>1.00000</td>\n",
              "      <td>985.000000</td>\n",
              "      <td>328.000000</td>\n",
              "      <td>1.000000</td>\n",
              "      <td>3366.450167</td>\n",
              "      <td>39.00000</td>\n",
              "      <td>24.000000</td>\n",
              "      <td>23.109253</td>\n",
              "      <td>8.170132</td>\n",
              "      <td>7.553309</td>\n",
              "      <td>11</td>\n",
              "      <td>100</td>\n",
              "      <td>2.000000</td>\n",
              "      <td>0</td>\n",
              "    </tr>\n",
              "  </tbody>\n",
              "</table>\n",
              "</div>"
            ],
            "text/plain": [
              "   user_id  TENURE       MONTANT  ...  TOP_PACK  FREQ_TOP_PACK  CHURN\n",
              "0        0       7   4250.000000  ...       107       8.000000      0\n",
              "1        1       5   5532.116998  ...       140       9.272461      1\n",
              "2        2       7   3600.000000  ...       108       1.000000      0\n",
              "3        3       7  13500.000000  ...        35      11.000000      0\n",
              "4        4       7   1000.000000  ...       100       2.000000      0\n",
              "\n",
              "[5 rows x 17 columns]"
            ]
          },
          "metadata": {},
          "execution_count": 32
        }
      ]
    },
    {
      "cell_type": "code",
      "metadata": {
        "id": "Q1J4xLl_uSHA"
      },
      "source": [
        "test[\"TOP_PACK\"] = encoder.fit_transform(test[\"TOP_PACK\"])\n",
        "test[\"user_id\"] = encoder.fit_transform(test[\"user_id\"])\n",
        "# test[\"TENURE\"] = encoder.fit_transform(test[\"TENURE\"])"
      ],
      "execution_count": null,
      "outputs": []
    },
    {
      "cell_type": "code",
      "metadata": {
        "id": "KcI6DEi0w3RP"
      },
      "source": [
        "test['TOP_PACK'].fillna((test['TOP_PACK'].mean()), inplace=True)"
      ],
      "execution_count": null,
      "outputs": []
    },
    {
      "cell_type": "code",
      "metadata": {
        "id": "NT0YVrRbua-2",
        "colab": {
          "base_uri": "https://localhost:8080/",
          "height": 224
        },
        "outputId": "ba7007b3-e348-4d53-fe1f-41756d1d66d1"
      },
      "source": [
        "test.head()"
      ],
      "execution_count": null,
      "outputs": [
        {
          "output_type": "execute_result",
          "data": {
            "text/html": [
              "<div>\n",
              "<style scoped>\n",
              "    .dataframe tbody tr th:only-of-type {\n",
              "        vertical-align: middle;\n",
              "    }\n",
              "\n",
              "    .dataframe tbody tr th {\n",
              "        vertical-align: top;\n",
              "    }\n",
              "\n",
              "    .dataframe thead th {\n",
              "        text-align: right;\n",
              "    }\n",
              "</style>\n",
              "<table border=\"1\" class=\"dataframe\">\n",
              "  <thead>\n",
              "    <tr style=\"text-align: right;\">\n",
              "      <th></th>\n",
              "      <th>user_id</th>\n",
              "      <th>TENURE</th>\n",
              "      <th>MONTANT</th>\n",
              "      <th>FREQUENCE_RECH</th>\n",
              "      <th>REVENUE</th>\n",
              "      <th>ARPU_SEGMENT</th>\n",
              "      <th>FREQUENCE</th>\n",
              "      <th>DATA_VOLUME</th>\n",
              "      <th>ON_NET</th>\n",
              "      <th>ORANGE</th>\n",
              "      <th>TIGO</th>\n",
              "      <th>ZONE1</th>\n",
              "      <th>ZONE2</th>\n",
              "      <th>REGULARITY</th>\n",
              "      <th>TOP_PACK</th>\n",
              "      <th>FREQ_TOP_PACK</th>\n",
              "    </tr>\n",
              "  </thead>\n",
              "  <tbody>\n",
              "    <tr>\n",
              "      <th>0</th>\n",
              "      <td>0</td>\n",
              "      <td>7</td>\n",
              "      <td>5000.0</td>\n",
              "      <td>5.0</td>\n",
              "      <td>5000.0</td>\n",
              "      <td>1667.0</td>\n",
              "      <td>5.0</td>\n",
              "      <td>NaN</td>\n",
              "      <td>378.0</td>\n",
              "      <td>11.0</td>\n",
              "      <td>5.0</td>\n",
              "      <td>NaN</td>\n",
              "      <td>NaN</td>\n",
              "      <td>42</td>\n",
              "      <td>76</td>\n",
              "      <td>5.0</td>\n",
              "    </tr>\n",
              "    <tr>\n",
              "      <th>1</th>\n",
              "      <td>1</td>\n",
              "      <td>5</td>\n",
              "      <td>300.0</td>\n",
              "      <td>2.0</td>\n",
              "      <td>326.0</td>\n",
              "      <td>109.0</td>\n",
              "      <td>3.0</td>\n",
              "      <td>397.0</td>\n",
              "      <td>NaN</td>\n",
              "      <td>0.0</td>\n",
              "      <td>NaN</td>\n",
              "      <td>NaN</td>\n",
              "      <td>NaN</td>\n",
              "      <td>41</td>\n",
              "      <td>17</td>\n",
              "      <td>1.0</td>\n",
              "    </tr>\n",
              "    <tr>\n",
              "      <th>2</th>\n",
              "      <td>2</td>\n",
              "      <td>7</td>\n",
              "      <td>3300.0</td>\n",
              "      <td>25.0</td>\n",
              "      <td>3400.0</td>\n",
              "      <td>1133.0</td>\n",
              "      <td>26.0</td>\n",
              "      <td>7150.0</td>\n",
              "      <td>0.0</td>\n",
              "      <td>2.0</td>\n",
              "      <td>5.0</td>\n",
              "      <td>NaN</td>\n",
              "      <td>NaN</td>\n",
              "      <td>57</td>\n",
              "      <td>17</td>\n",
              "      <td>22.0</td>\n",
              "    </tr>\n",
              "    <tr>\n",
              "      <th>3</th>\n",
              "      <td>3</td>\n",
              "      <td>7</td>\n",
              "      <td>NaN</td>\n",
              "      <td>NaN</td>\n",
              "      <td>NaN</td>\n",
              "      <td>NaN</td>\n",
              "      <td>NaN</td>\n",
              "      <td>NaN</td>\n",
              "      <td>NaN</td>\n",
              "      <td>NaN</td>\n",
              "      <td>NaN</td>\n",
              "      <td>NaN</td>\n",
              "      <td>NaN</td>\n",
              "      <td>9</td>\n",
              "      <td>102</td>\n",
              "      <td>NaN</td>\n",
              "    </tr>\n",
              "    <tr>\n",
              "      <th>4</th>\n",
              "      <td>4</td>\n",
              "      <td>7</td>\n",
              "      <td>NaN</td>\n",
              "      <td>NaN</td>\n",
              "      <td>NaN</td>\n",
              "      <td>NaN</td>\n",
              "      <td>NaN</td>\n",
              "      <td>NaN</td>\n",
              "      <td>NaN</td>\n",
              "      <td>NaN</td>\n",
              "      <td>NaN</td>\n",
              "      <td>NaN</td>\n",
              "      <td>NaN</td>\n",
              "      <td>10</td>\n",
              "      <td>102</td>\n",
              "      <td>NaN</td>\n",
              "    </tr>\n",
              "  </tbody>\n",
              "</table>\n",
              "</div>"
            ],
            "text/plain": [
              "   user_id  TENURE  MONTANT  ...  REGULARITY  TOP_PACK  FREQ_TOP_PACK\n",
              "0        0       7   5000.0  ...          42        76            5.0\n",
              "1        1       5    300.0  ...          41        17            1.0\n",
              "2        2       7   3300.0  ...          57        17           22.0\n",
              "3        3       7      NaN  ...           9       102            NaN\n",
              "4        4       7      NaN  ...          10       102            NaN\n",
              "\n",
              "[5 rows x 16 columns]"
            ]
          },
          "metadata": {},
          "execution_count": 35
        }
      ]
    },
    {
      "cell_type": "code",
      "metadata": {
        "colab": {
          "base_uri": "https://localhost:8080/"
        },
        "id": "3E_HusvmRQoG",
        "outputId": "8ab8a7b2-07fe-4c63-8da0-2f49b6c3bb51"
      },
      "source": [
        "train.isnull().sum()"
      ],
      "execution_count": null,
      "outputs": [
        {
          "output_type": "execute_result",
          "data": {
            "text/plain": [
              "user_id           0\n",
              "TENURE            0\n",
              "MONTANT           0\n",
              "FREQUENCE_RECH    0\n",
              "REVENUE           0\n",
              "ARPU_SEGMENT      0\n",
              "FREQUENCE         0\n",
              "DATA_VOLUME       0\n",
              "ON_NET            0\n",
              "ORANGE            0\n",
              "TIGO              0\n",
              "ZONE1             0\n",
              "ZONE2             0\n",
              "REGULARITY        0\n",
              "TOP_PACK          0\n",
              "FREQ_TOP_PACK     0\n",
              "CHURN             0\n",
              "dtype: int64"
            ]
          },
          "metadata": {},
          "execution_count": 36
        }
      ]
    },
    {
      "cell_type": "code",
      "metadata": {
        "id": "CrAa70lPRQoH"
      },
      "source": [
        "#Fill NAs for test data"
      ],
      "execution_count": null,
      "outputs": []
    },
    {
      "cell_type": "code",
      "metadata": {
        "id": "h_-ncZkCRQoH"
      },
      "source": [
        "test['MONTANT'].fillna((test['MONTANT'].mean()), inplace=True)\n",
        "test['FREQUENCE_RECH'].fillna((test['FREQUENCE_RECH'].mean()), inplace=True)\n",
        "test['REVENUE'].fillna((test['REVENUE'].mean()), inplace=True)\n",
        "test['ARPU_SEGMENT'].fillna((test['ARPU_SEGMENT'].mean()), inplace=True)\n",
        "test['FREQUENCE'].fillna((test['FREQUENCE'].mean()), inplace=True)\n",
        "test['DATA_VOLUME'].fillna((test['DATA_VOLUME'].mean()), inplace=True)\n",
        "test['ON_NET'].fillna((test['ON_NET'].mean()), inplace=True)\n",
        "test['ORANGE'].fillna((test['ORANGE'].mean()), inplace=True)\n",
        "test['TIGO'].fillna((test['TIGO'].mean()), inplace=True)\n",
        "test['ZONE1'].fillna((test['ZONE1'].mean()), inplace=True)\n",
        "test['ZONE2'].fillna((test['ZONE2'].mean()), inplace=True)\n",
        "test['FREQ_TOP_PACK'].fillna((test['FREQ_TOP_PACK'].mean()), inplace=True)"
      ],
      "execution_count": null,
      "outputs": []
    },
    {
      "cell_type": "code",
      "metadata": {
        "colab": {
          "base_uri": "https://localhost:8080/",
          "height": 224
        },
        "id": "izbGnwvfRQoH",
        "outputId": "7f985b1d-24bf-4b06-825d-f3e3efde5b4f"
      },
      "source": [
        "test.head()"
      ],
      "execution_count": null,
      "outputs": [
        {
          "output_type": "execute_result",
          "data": {
            "text/html": [
              "<div>\n",
              "<style scoped>\n",
              "    .dataframe tbody tr th:only-of-type {\n",
              "        vertical-align: middle;\n",
              "    }\n",
              "\n",
              "    .dataframe tbody tr th {\n",
              "        vertical-align: top;\n",
              "    }\n",
              "\n",
              "    .dataframe thead th {\n",
              "        text-align: right;\n",
              "    }\n",
              "</style>\n",
              "<table border=\"1\" class=\"dataframe\">\n",
              "  <thead>\n",
              "    <tr style=\"text-align: right;\">\n",
              "      <th></th>\n",
              "      <th>user_id</th>\n",
              "      <th>TENURE</th>\n",
              "      <th>MONTANT</th>\n",
              "      <th>FREQUENCE_RECH</th>\n",
              "      <th>REVENUE</th>\n",
              "      <th>ARPU_SEGMENT</th>\n",
              "      <th>FREQUENCE</th>\n",
              "      <th>DATA_VOLUME</th>\n",
              "      <th>ON_NET</th>\n",
              "      <th>ORANGE</th>\n",
              "      <th>TIGO</th>\n",
              "      <th>ZONE1</th>\n",
              "      <th>ZONE2</th>\n",
              "      <th>REGULARITY</th>\n",
              "      <th>TOP_PACK</th>\n",
              "      <th>FREQ_TOP_PACK</th>\n",
              "    </tr>\n",
              "  </thead>\n",
              "  <tbody>\n",
              "    <tr>\n",
              "      <th>0</th>\n",
              "      <td>0</td>\n",
              "      <td>7</td>\n",
              "      <td>5000.000000</td>\n",
              "      <td>5.000000</td>\n",
              "      <td>5000.000000</td>\n",
              "      <td>1667.000000</td>\n",
              "      <td>5.000000</td>\n",
              "      <td>3346.095454</td>\n",
              "      <td>378.00000</td>\n",
              "      <td>11.000000</td>\n",
              "      <td>5.000000</td>\n",
              "      <td>8.164663</td>\n",
              "      <td>7.6553</td>\n",
              "      <td>42</td>\n",
              "      <td>76</td>\n",
              "      <td>5.000000</td>\n",
              "    </tr>\n",
              "    <tr>\n",
              "      <th>1</th>\n",
              "      <td>1</td>\n",
              "      <td>5</td>\n",
              "      <td>300.000000</td>\n",
              "      <td>2.000000</td>\n",
              "      <td>326.000000</td>\n",
              "      <td>109.000000</td>\n",
              "      <td>3.000000</td>\n",
              "      <td>397.000000</td>\n",
              "      <td>278.80631</td>\n",
              "      <td>0.000000</td>\n",
              "      <td>23.052088</td>\n",
              "      <td>8.164663</td>\n",
              "      <td>7.6553</td>\n",
              "      <td>41</td>\n",
              "      <td>17</td>\n",
              "      <td>1.000000</td>\n",
              "    </tr>\n",
              "    <tr>\n",
              "      <th>2</th>\n",
              "      <td>2</td>\n",
              "      <td>7</td>\n",
              "      <td>3300.000000</td>\n",
              "      <td>25.000000</td>\n",
              "      <td>3400.000000</td>\n",
              "      <td>1133.000000</td>\n",
              "      <td>26.000000</td>\n",
              "      <td>7150.000000</td>\n",
              "      <td>0.00000</td>\n",
              "      <td>2.000000</td>\n",
              "      <td>5.000000</td>\n",
              "      <td>8.164663</td>\n",
              "      <td>7.6553</td>\n",
              "      <td>57</td>\n",
              "      <td>17</td>\n",
              "      <td>22.000000</td>\n",
              "    </tr>\n",
              "    <tr>\n",
              "      <th>3</th>\n",
              "      <td>3</td>\n",
              "      <td>7</td>\n",
              "      <td>5524.958826</td>\n",
              "      <td>11.519853</td>\n",
              "      <td>5499.680468</td>\n",
              "      <td>1833.232443</td>\n",
              "      <td>13.957963</td>\n",
              "      <td>3346.095454</td>\n",
              "      <td>278.80631</td>\n",
              "      <td>95.193008</td>\n",
              "      <td>23.052088</td>\n",
              "      <td>8.164663</td>\n",
              "      <td>7.6553</td>\n",
              "      <td>9</td>\n",
              "      <td>102</td>\n",
              "      <td>9.261584</td>\n",
              "    </tr>\n",
              "    <tr>\n",
              "      <th>4</th>\n",
              "      <td>4</td>\n",
              "      <td>7</td>\n",
              "      <td>5524.958826</td>\n",
              "      <td>11.519853</td>\n",
              "      <td>5499.680468</td>\n",
              "      <td>1833.232443</td>\n",
              "      <td>13.957963</td>\n",
              "      <td>3346.095454</td>\n",
              "      <td>278.80631</td>\n",
              "      <td>95.193008</td>\n",
              "      <td>23.052088</td>\n",
              "      <td>8.164663</td>\n",
              "      <td>7.6553</td>\n",
              "      <td>10</td>\n",
              "      <td>102</td>\n",
              "      <td>9.261584</td>\n",
              "    </tr>\n",
              "  </tbody>\n",
              "</table>\n",
              "</div>"
            ],
            "text/plain": [
              "   user_id  TENURE      MONTANT  ...  REGULARITY  TOP_PACK  FREQ_TOP_PACK\n",
              "0        0       7  5000.000000  ...          42        76       5.000000\n",
              "1        1       5   300.000000  ...          41        17       1.000000\n",
              "2        2       7  3300.000000  ...          57        17      22.000000\n",
              "3        3       7  5524.958826  ...           9       102       9.261584\n",
              "4        4       7  5524.958826  ...          10       102       9.261584\n",
              "\n",
              "[5 rows x 16 columns]"
            ]
          },
          "metadata": {},
          "execution_count": 39
        }
      ]
    },
    {
      "cell_type": "code",
      "metadata": {
        "colab": {
          "base_uri": "https://localhost:8080/"
        },
        "id": "5EsoA5GXRQoI",
        "outputId": "f62767fc-334b-4b2b-d0b8-2d10dc059fb5"
      },
      "source": [
        "test.isnull().sum()"
      ],
      "execution_count": null,
      "outputs": [
        {
          "output_type": "execute_result",
          "data": {
            "text/plain": [
              "user_id           0\n",
              "TENURE            0\n",
              "MONTANT           0\n",
              "FREQUENCE_RECH    0\n",
              "REVENUE           0\n",
              "ARPU_SEGMENT      0\n",
              "FREQUENCE         0\n",
              "DATA_VOLUME       0\n",
              "ON_NET            0\n",
              "ORANGE            0\n",
              "TIGO              0\n",
              "ZONE1             0\n",
              "ZONE2             0\n",
              "REGULARITY        0\n",
              "TOP_PACK          0\n",
              "FREQ_TOP_PACK     0\n",
              "dtype: int64"
            ]
          },
          "metadata": {},
          "execution_count": 40
        }
      ]
    },
    {
      "cell_type": "markdown",
      "metadata": {
        "id": "35C1xwYvRQoI"
      },
      "source": [
        "## Machine Learning"
      ]
    },
    {
      "cell_type": "code",
      "metadata": {
        "colab": {
          "base_uri": "https://localhost:8080/"
        },
        "id": "x5Tc_qCC3Avw",
        "outputId": "1e8783bc-ba37-4fb0-e54a-fefa49db1366"
      },
      "source": [
        "pip install catboost\n"
      ],
      "execution_count": null,
      "outputs": [
        {
          "output_type": "stream",
          "name": "stdout",
          "text": [
            "Requirement already satisfied: catboost in /usr/local/lib/python3.7/dist-packages (1.0.3)\n",
            "Requirement already satisfied: numpy>=1.16.0 in /usr/local/lib/python3.7/dist-packages (from catboost) (1.19.5)\n",
            "Requirement already satisfied: matplotlib in /usr/local/lib/python3.7/dist-packages (from catboost) (3.2.2)\n",
            "Requirement already satisfied: scipy in /usr/local/lib/python3.7/dist-packages (from catboost) (1.4.1)\n",
            "Requirement already satisfied: pandas>=0.24.0 in /usr/local/lib/python3.7/dist-packages (from catboost) (1.1.5)\n",
            "Requirement already satisfied: graphviz in /usr/local/lib/python3.7/dist-packages (from catboost) (0.10.1)\n",
            "Requirement already satisfied: six in /usr/local/lib/python3.7/dist-packages (from catboost) (1.15.0)\n",
            "Requirement already satisfied: plotly in /usr/local/lib/python3.7/dist-packages (from catboost) (4.4.1)\n",
            "Requirement already satisfied: pytz>=2017.2 in /usr/local/lib/python3.7/dist-packages (from pandas>=0.24.0->catboost) (2018.9)\n",
            "Requirement already satisfied: python-dateutil>=2.7.3 in /usr/local/lib/python3.7/dist-packages (from pandas>=0.24.0->catboost) (2.8.2)\n",
            "Requirement already satisfied: kiwisolver>=1.0.1 in /usr/local/lib/python3.7/dist-packages (from matplotlib->catboost) (1.3.2)\n",
            "Requirement already satisfied: pyparsing!=2.0.4,!=2.1.2,!=2.1.6,>=2.0.1 in /usr/local/lib/python3.7/dist-packages (from matplotlib->catboost) (3.0.6)\n",
            "Requirement already satisfied: cycler>=0.10 in /usr/local/lib/python3.7/dist-packages (from matplotlib->catboost) (0.11.0)\n",
            "Requirement already satisfied: retrying>=1.3.3 in /usr/local/lib/python3.7/dist-packages (from plotly->catboost) (1.3.3)\n"
          ]
        }
      ]
    },
    {
      "cell_type": "code",
      "metadata": {
        "id": "8dNZT4pkRQoK"
      },
      "source": [
        "import pandas as pd\n",
        "import numpy as np\n",
        "import datetime as dt\n",
        "import sklearn\n",
        "from tqdm.notebook import tqdm_notebook\n",
        "import seaborn as sns\n",
        "import matplotlib.pyplot as plt\n",
        "from sklearn.svm import SVC\n",
        "from xgboost import XGBClassifier\n",
        "from sklearn import model_selection\n",
        "from sklearn.utils import class_weight\n",
        "from sklearn.metrics import classification_report\n",
        "from sklearn.metrics import f1_score\n",
        "from sklearn.metrics import roc_auc_score\n",
        "from sklearn.metrics import roc_curve\n",
        "from lightgbm import LGBMClassifier\n",
        "from sklearn.linear_model import LogisticRegression\n",
        "from sklearn import svm\n",
        "from sklearn.neural_network import MLPClassifier\n",
        "from sklearn.ensemble import ExtraTreesClassifier\n",
        "from sklearn.neighbors import KNeighborsClassifier\n",
        "from sklearn.tree import DecisionTreeClassifier\n",
        "from sklearn.svm import LinearSVC\n",
        "from sklearn.svm import SVR\n",
        "from sklearn.pipeline import make_pipeline\n",
        "from sklearn.ensemble import StackingClassifier\n",
        "from sklearn.discriminant_analysis import LinearDiscriminantAnalysis as LDA\n",
        "from sklearn.datasets import make_multilabel_classification\n",
        "from sklearn.datasets import make_classification\n",
        "from sklearn.feature_extraction.text import CountVectorizer\n",
        "from sklearn.feature_extraction.text import TfidfTransformer\n",
        "from sklearn.feature_extraction.text import TfidfVectorizer\n",
        "from sklearn import metrics\n",
        "from sklearn.metrics import make_scorer\n",
        "from sklearn.pipeline import Pipeline\n",
        "from sklearn.model_selection import GridSearchCV\n",
        "from sklearn.naive_bayes import GaussianNB\n",
        "from sklearn.linear_model import SGDClassifier\n",
        "from sklearn import preprocessing\n",
        "import catboost\n",
        "from catboost import CatBoostClassifier\n",
        "import lightgbm as lgb\n",
        "import xgboost as xgb\n",
        "\n",
        "import warnings\n",
        "warnings.filterwarnings('ignore')\n",
        "\n",
        "import copy\n",
        "import random\n",
        "import os\n",
        "import torch\n",
        "torch.cuda.is_available()\n",
        "# Output would be True if Pytorch is using GPU otherwise it would be False.\n",
        "\n",
        "from sklearn.model_selection import train_test_split,cross_val_score\n",
        "from sklearn.metrics import accuracy_score,confusion_matrix,recall_score,precision_recall_curve, f1_score\n",
        "from sklearn.preprocessing import StandardScaler\n",
        "from sklearn.preprocessing import MinMaxScaler\n",
        "from sklearn.ensemble import RandomForestClassifier\n",
        "from sklearn.preprocessing import LabelEncoder\n",
        "from sklearn.model_selection import train_test_split\n",
        "# from sklearn import cross_validation\n",
        "from sklearn.model_selection import cross_validate\n",
        "from sklearn.model_selection import RepeatedStratifiedKFold\n",
        "from sklearn.pipeline import Pipeline\n",
        "from numpy import mean\n",
        "from numpy import std"
      ],
      "execution_count": null,
      "outputs": []
    },
    {
      "cell_type": "code",
      "metadata": {
        "id": "p8ke7cgRUqbZ"
      },
      "source": [
        "# for reprocducibility\n",
        "def seed_all(seed):\n",
        "  torch.manual_seed(seed)\n",
        "  os.environ['PYTHONHASHSEED'] = str(seed)\n",
        "  torch.cuda.manual_seed(seed)\n",
        "  torch.cuda.manual_seed_all(seed)\n",
        "  np.random.seed(seed)\n",
        "  random.seed(seed)\n",
        "  torch.manual_seed(seed)\n",
        "  torch.backends.cudnn.deterministic = True\n",
        "  torch.backends.cudnn.benchmark = False"
      ],
      "execution_count": null,
      "outputs": []
    },
    {
      "cell_type": "code",
      "metadata": {
        "id": "Qv8U-yp2UrOM"
      },
      "source": [
        "seed=0\n",
        "seed_all(seed)"
      ],
      "execution_count": null,
      "outputs": []
    },
    {
      "cell_type": "code",
      "metadata": {
        "colab": {
          "base_uri": "https://localhost:8080/"
        },
        "id": "MomWV_xzRQoL",
        "outputId": "93cddfe7-44fe-480f-d38d-d1daa29c1dfd"
      },
      "source": [
        "seed_all(seed)\n",
        "dropcols = ['CHURN']\n",
        "y = train['CHURN']\n",
        "X = train.drop(columns=dropcols, axis=1)\n",
        "# test = test.drop(columns=['user_id'], axis=1) #you will use this for predicting and submitting the resulting\n",
        "print(X.shape)\n",
        "print(y.shape)\n",
        "print(test.shape)"
      ],
      "execution_count": null,
      "outputs": [
        {
          "output_type": "stream",
          "name": "stdout",
          "text": [
            "(2154048, 16)\n",
            "(2154048,)\n",
            "(380127, 16)\n"
          ]
        }
      ]
    },
    {
      "cell_type": "code",
      "metadata": {
        "id": "m1UG0igxRQoO"
      },
      "source": [
        "#Standardize numeric columns"
      ],
      "execution_count": null,
      "outputs": []
    },
    {
      "cell_type": "code",
      "metadata": {
        "id": "r56oQ3g0RQoO"
      },
      "source": [
        "num_cols = ['MONTANT', 'FREQUENCE_RECH', 'REVENUE', 'ARPU_SEGMENT', 'FREQUENCE',\n",
        "       'DATA_VOLUME', 'ON_NET', 'ORANGE', 'TIGO', 'ZONE1', 'ZONE2',\n",
        "       'REGULARITY', 'FREQ_TOP_PACK','TENURE', 'user_id', 'TOP_PACK']"
      ],
      "execution_count": null,
      "outputs": []
    },
    {
      "cell_type": "code",
      "metadata": {
        "id": "V9Uh1DesRQoP"
      },
      "source": [
        "seed_all(seed)\n",
        "scaler = StandardScaler()\n",
        "# scaler = preprocessing.MinMaxScaler()\n",
        "# scaler = preprocessing.MaxAbsScaler()"
      ],
      "execution_count": null,
      "outputs": []
    },
    {
      "cell_type": "code",
      "metadata": {
        "id": "bxZ9vj9qRQoP"
      },
      "source": [
        "seed_all(seed)\n",
        "train[num_cols] = scaler.fit_transform(train[num_cols])"
      ],
      "execution_count": null,
      "outputs": []
    },
    {
      "cell_type": "code",
      "metadata": {
        "colab": {
          "base_uri": "https://localhost:8080/",
          "height": 309
        },
        "id": "pdEPwXDiRQoP",
        "outputId": "243ed950-3e26-4188-d000-d5ae516cdaa8"
      },
      "source": [
        "train.head()"
      ],
      "execution_count": null,
      "outputs": [
        {
          "output_type": "execute_result",
          "data": {
            "text/html": [
              "<div>\n",
              "<style scoped>\n",
              "    .dataframe tbody tr th:only-of-type {\n",
              "        vertical-align: middle;\n",
              "    }\n",
              "\n",
              "    .dataframe tbody tr th {\n",
              "        vertical-align: top;\n",
              "    }\n",
              "\n",
              "    .dataframe thead th {\n",
              "        text-align: right;\n",
              "    }\n",
              "</style>\n",
              "<table border=\"1\" class=\"dataframe\">\n",
              "  <thead>\n",
              "    <tr style=\"text-align: right;\">\n",
              "      <th></th>\n",
              "      <th>user_id</th>\n",
              "      <th>TENURE</th>\n",
              "      <th>MONTANT</th>\n",
              "      <th>FREQUENCE_RECH</th>\n",
              "      <th>REVENUE</th>\n",
              "      <th>ARPU_SEGMENT</th>\n",
              "      <th>FREQUENCE</th>\n",
              "      <th>DATA_VOLUME</th>\n",
              "      <th>ON_NET</th>\n",
              "      <th>ORANGE</th>\n",
              "      <th>TIGO</th>\n",
              "      <th>ZONE1</th>\n",
              "      <th>ZONE2</th>\n",
              "      <th>REGULARITY</th>\n",
              "      <th>TOP_PACK</th>\n",
              "      <th>FREQ_TOP_PACK</th>\n",
              "      <th>CHURN</th>\n",
              "    </tr>\n",
              "  </thead>\n",
              "  <tbody>\n",
              "    <tr>\n",
              "      <th>0</th>\n",
              "      <td>-1.732050</td>\n",
              "      <td>0.211319</td>\n",
              "      <td>-2.238504e-01</td>\n",
              "      <td>3.246513e-01</td>\n",
              "      <td>-2.152853e-01</td>\n",
              "      <td>-2.152889e-01</td>\n",
              "      <td>2.525787e-01</td>\n",
              "      <td>-3.546942e-01</td>\n",
              "      <td>1.586511e-01</td>\n",
              "      <td>-3.153654e-01</td>\n",
              "      <td>-5.490724e-01</td>\n",
              "      <td>-6.204583e-01</td>\n",
              "      <td>-6.579922e-01</td>\n",
              "      <td>1.164700</td>\n",
              "      <td>0.304622</td>\n",
              "      <td>-1.359412e-01</td>\n",
              "      <td>0</td>\n",
              "    </tr>\n",
              "    <tr>\n",
              "      <th>1</th>\n",
              "      <td>-1.732048</td>\n",
              "      <td>-2.783691</td>\n",
              "      <td>2.666446e-17</td>\n",
              "      <td>-1.265232e-16</td>\n",
              "      <td>2.355032e-17</td>\n",
              "      <td>9.736025e-17</td>\n",
              "      <td>4.838079e-17</td>\n",
              "      <td>-1.541542e-17</td>\n",
              "      <td>1.092124e-17</td>\n",
              "      <td>-1.303179e-17</td>\n",
              "      <td>2.110634e-17</td>\n",
              "      <td>2.649086e-19</td>\n",
              "      <td>1.125218e-18</td>\n",
              "      <td>-1.078775</td>\n",
              "      <td>0.959779</td>\n",
              "      <td>2.443638e-17</td>\n",
              "      <td>1</td>\n",
              "    </tr>\n",
              "    <tr>\n",
              "      <th>2</th>\n",
              "      <td>-1.732047</td>\n",
              "      <td>0.211319</td>\n",
              "      <td>-3.373367e-01</td>\n",
              "      <td>-8.913132e-01</td>\n",
              "      <td>-7.674215e-01</td>\n",
              "      <td>-7.674261e-01</td>\n",
              "      <td>-1.001180e+00</td>\n",
              "      <td>-1.541542e-17</td>\n",
              "      <td>-2.699380e-01</td>\n",
              "      <td>-3.153654e-01</td>\n",
              "      <td>-4.000654e-01</td>\n",
              "      <td>2.649086e-19</td>\n",
              "      <td>1.125218e-18</td>\n",
              "      <td>-0.495472</td>\n",
              "      <td>0.324475</td>\n",
              "      <td>-8.837738e-01</td>\n",
              "      <td>0</td>\n",
              "    </tr>\n",
              "    <tr>\n",
              "      <th>3</th>\n",
              "      <td>-1.732045</td>\n",
              "      <td>0.211319</td>\n",
              "      <td>1.391147e+00</td>\n",
              "      <td>3.246513e-01</td>\n",
              "      <td>1.365591e+00</td>\n",
              "      <td>1.365761e+00</td>\n",
              "      <td>3.361627e-01</td>\n",
              "      <td>4.265629e+00</td>\n",
              "      <td>-3.404107e-01</td>\n",
              "      <td>4.199848e-02</td>\n",
              "      <td>-5.242379e-01</td>\n",
              "      <td>2.649086e-19</td>\n",
              "      <td>1.125218e-18</td>\n",
              "      <td>1.523656</td>\n",
              "      <td>-1.124810</td>\n",
              "      <td>1.845585e-01</td>\n",
              "      <td>0</td>\n",
              "    </tr>\n",
              "    <tr>\n",
              "      <th>4</th>\n",
              "      <td>-1.732044</td>\n",
              "      <td>0.211319</td>\n",
              "      <td>-7.912821e-01</td>\n",
              "      <td>-9.848489e-01</td>\n",
              "      <td>-7.734026e-01</td>\n",
              "      <td>-7.735780e-01</td>\n",
              "      <td>-1.084764e+00</td>\n",
              "      <td>-1.541542e-17</td>\n",
              "      <td>-3.432872e-01</td>\n",
              "      <td>-4.557583e-01</td>\n",
              "      <td>2.110634e-17</td>\n",
              "      <td>2.649086e-19</td>\n",
              "      <td>1.125218e-18</td>\n",
              "      <td>-0.764689</td>\n",
              "      <td>0.165650</td>\n",
              "      <td>-7.769406e-01</td>\n",
              "      <td>0</td>\n",
              "    </tr>\n",
              "  </tbody>\n",
              "</table>\n",
              "</div>"
            ],
            "text/plain": [
              "    user_id    TENURE       MONTANT  ...  TOP_PACK  FREQ_TOP_PACK  CHURN\n",
              "0 -1.732050  0.211319 -2.238504e-01  ...  0.304622  -1.359412e-01      0\n",
              "1 -1.732048 -2.783691  2.666446e-17  ...  0.959779   2.443638e-17      1\n",
              "2 -1.732047  0.211319 -3.373367e-01  ...  0.324475  -8.837738e-01      0\n",
              "3 -1.732045  0.211319  1.391147e+00  ... -1.124810   1.845585e-01      0\n",
              "4 -1.732044  0.211319 -7.912821e-01  ...  0.165650  -7.769406e-01      0\n",
              "\n",
              "[5 rows x 17 columns]"
            ]
          },
          "metadata": {},
          "execution_count": 199
        }
      ]
    },
    {
      "cell_type": "code",
      "metadata": {
        "id": "JYuER-n9RQoQ"
      },
      "source": [
        "seed_all(seed)\n",
        "test[num_cols] = scaler.transform(test[num_cols])"
      ],
      "execution_count": null,
      "outputs": []
    },
    {
      "cell_type": "code",
      "metadata": {
        "colab": {
          "base_uri": "https://localhost:8080/",
          "height": 224
        },
        "id": "yxBKp_1CRQoQ",
        "outputId": "9c6a7dfb-9ceb-4e41-d5ba-64764bb01395"
      },
      "source": [
        "test.head()"
      ],
      "execution_count": null,
      "outputs": [
        {
          "output_type": "execute_result",
          "data": {
            "text/html": [
              "<div>\n",
              "<style scoped>\n",
              "    .dataframe tbody tr th:only-of-type {\n",
              "        vertical-align: middle;\n",
              "    }\n",
              "\n",
              "    .dataframe tbody tr th {\n",
              "        vertical-align: top;\n",
              "    }\n",
              "\n",
              "    .dataframe thead th {\n",
              "        text-align: right;\n",
              "    }\n",
              "</style>\n",
              "<table border=\"1\" class=\"dataframe\">\n",
              "  <thead>\n",
              "    <tr style=\"text-align: right;\">\n",
              "      <th></th>\n",
              "      <th>user_id</th>\n",
              "      <th>TENURE</th>\n",
              "      <th>MONTANT</th>\n",
              "      <th>FREQUENCE_RECH</th>\n",
              "      <th>REVENUE</th>\n",
              "      <th>ARPU_SEGMENT</th>\n",
              "      <th>FREQUENCE</th>\n",
              "      <th>DATA_VOLUME</th>\n",
              "      <th>ON_NET</th>\n",
              "      <th>ORANGE</th>\n",
              "      <th>TIGO</th>\n",
              "      <th>ZONE1</th>\n",
              "      <th>ZONE2</th>\n",
              "      <th>REGULARITY</th>\n",
              "      <th>TOP_PACK</th>\n",
              "      <th>FREQ_TOP_PACK</th>\n",
              "    </tr>\n",
              "  </thead>\n",
              "  <tbody>\n",
              "    <tr>\n",
              "      <th>0</th>\n",
              "      <td>-1.732050</td>\n",
              "      <td>0.211319</td>\n",
              "      <td>-0.092905</td>\n",
              "      <td>-0.610706</td>\n",
              "      <td>-0.087291</td>\n",
              "      <td>-0.087123</td>\n",
              "      <td>-0.750428</td>\n",
              "      <td>-0.002147</td>\n",
              "      <td>0.144269</td>\n",
              "      <td>-0.538718</td>\n",
              "      <td>-0.449734</td>\n",
              "      <td>-0.000473</td>\n",
              "      <td>0.012084</td>\n",
              "      <td>0.626266</td>\n",
              "      <td>-0.310828</td>\n",
              "      <td>-0.456441</td>\n",
              "    </tr>\n",
              "    <tr>\n",
              "      <th>1</th>\n",
              "      <td>-1.732048</td>\n",
              "      <td>-2.783691</td>\n",
              "      <td>-0.913498</td>\n",
              "      <td>-0.891313</td>\n",
              "      <td>-0.886017</td>\n",
              "      <td>-0.885851</td>\n",
              "      <td>-0.917596</td>\n",
              "      <td>-0.313238</td>\n",
              "      <td>0.001607</td>\n",
              "      <td>-0.608914</td>\n",
              "      <td>-0.001420</td>\n",
              "      <td>-0.000473</td>\n",
              "      <td>0.012084</td>\n",
              "      <td>0.581396</td>\n",
              "      <td>-1.482168</td>\n",
              "      <td>-0.883774</td>\n",
              "    </tr>\n",
              "    <tr>\n",
              "      <th>2</th>\n",
              "      <td>-1.732047</td>\n",
              "      <td>0.211319</td>\n",
              "      <td>-0.389715</td>\n",
              "      <td>1.260009</td>\n",
              "      <td>-0.360710</td>\n",
              "      <td>-0.360885</td>\n",
              "      <td>1.004834</td>\n",
              "      <td>0.399115</td>\n",
              "      <td>-0.399378</td>\n",
              "      <td>-0.596151</td>\n",
              "      <td>-0.449734</td>\n",
              "      <td>-0.000473</td>\n",
              "      <td>0.012084</td>\n",
              "      <td>1.299308</td>\n",
              "      <td>-1.482168</td>\n",
              "      <td>1.359724</td>\n",
              "    </tr>\n",
              "    <tr>\n",
              "      <th>3</th>\n",
              "      <td>-1.732045</td>\n",
              "      <td>0.211319</td>\n",
              "      <td>-0.001250</td>\n",
              "      <td>-0.000867</td>\n",
              "      <td>-0.001902</td>\n",
              "      <td>-0.001902</td>\n",
              "      <td>-0.001687</td>\n",
              "      <td>-0.002147</td>\n",
              "      <td>0.001607</td>\n",
              "      <td>-0.001440</td>\n",
              "      <td>-0.001420</td>\n",
              "      <td>-0.000473</td>\n",
              "      <td>0.012084</td>\n",
              "      <td>-0.854428</td>\n",
              "      <td>0.205356</td>\n",
              "      <td>-0.001162</td>\n",
              "    </tr>\n",
              "    <tr>\n",
              "      <th>4</th>\n",
              "      <td>-1.732044</td>\n",
              "      <td>0.211319</td>\n",
              "      <td>-0.001250</td>\n",
              "      <td>-0.000867</td>\n",
              "      <td>-0.001902</td>\n",
              "      <td>-0.001902</td>\n",
              "      <td>-0.001687</td>\n",
              "      <td>-0.002147</td>\n",
              "      <td>0.001607</td>\n",
              "      <td>-0.001440</td>\n",
              "      <td>-0.001420</td>\n",
              "      <td>-0.000473</td>\n",
              "      <td>0.012084</td>\n",
              "      <td>-0.809558</td>\n",
              "      <td>0.205356</td>\n",
              "      <td>-0.001162</td>\n",
              "    </tr>\n",
              "  </tbody>\n",
              "</table>\n",
              "</div>"
            ],
            "text/plain": [
              "    user_id    TENURE   MONTANT  ...  REGULARITY  TOP_PACK  FREQ_TOP_PACK\n",
              "0 -1.732050  0.211319 -0.092905  ...    0.626266 -0.310828      -0.456441\n",
              "1 -1.732048 -2.783691 -0.913498  ...    0.581396 -1.482168      -0.883774\n",
              "2 -1.732047  0.211319 -0.389715  ...    1.299308 -1.482168       1.359724\n",
              "3 -1.732045  0.211319 -0.001250  ...   -0.854428  0.205356      -0.001162\n",
              "4 -1.732044  0.211319 -0.001250  ...   -0.809558  0.205356      -0.001162\n",
              "\n",
              "[5 rows x 16 columns]"
            ]
          },
          "metadata": {},
          "execution_count": 201
        }
      ]
    },
    {
      "cell_type": "code",
      "metadata": {
        "id": "lZwkgZqeOpIK"
      },
      "source": [
        "#Split training data into train and test split"
      ],
      "execution_count": null,
      "outputs": []
    },
    {
      "cell_type": "code",
      "metadata": {
        "colab": {
          "base_uri": "https://localhost:8080/"
        },
        "id": "bW6KEhV6OLdT",
        "outputId": "6fb88b51-b406-4889-954c-9603759ac99c"
      },
      "source": [
        "seed_all(seed)\n",
        "X_train,X_test,y_train,y_test = train_test_split(X,y,test_size = 0.2,random_state=8675309)\n",
        "print(X_train.shape)\n",
        "print(y_train.shape)\n",
        "\n",
        "print(X_test.shape)\n",
        "print(y_test.shape)"
      ],
      "execution_count": null,
      "outputs": [
        {
          "output_type": "stream",
          "name": "stdout",
          "text": [
            "(1723238, 16)\n",
            "(1723238,)\n",
            "(430810, 16)\n",
            "(430810,)\n"
          ]
        }
      ]
    },
    {
      "cell_type": "code",
      "metadata": {
        "id": "rB8uVwGlATH2"
      },
      "source": [
        "st_x= MinMaxScaler()\n",
        "X_train= st_x.fit_transform(X_train)\n",
        "X_test= st_x.transform(X_test)"
      ],
      "execution_count": null,
      "outputs": []
    },
    {
      "cell_type": "code",
      "metadata": {
        "id": "bbUS-EW9PZ60"
      },
      "source": [
        "seed_all(seed)\n",
        "#The data is stored in a DMatrix object\n",
        "#label is used to define our outcome variable\n",
        "# dtrain=xgb.DMatrix(X_train,label=y_train)\n",
        "# dtest=xgb.DMatrix(X_test)\n",
        "\n",
        "dtrain = lgb.Dataset(X_train,label=y_train)"
      ],
      "execution_count": null,
      "outputs": []
    },
    {
      "cell_type": "code",
      "metadata": {
        "id": "Km3We1mPPfLT"
      },
      "source": [
        "seed_all(seed)\n",
        "#setting parameters for xgboost\n",
        "# parameters={'max_depth':7, 'eta':1, 'silent':1,'objective':'binary:logistic','eval_metric':'auc','learning_rate':.75}\n",
        "\n",
        "# #setting parameters for lightgbm(lgb)\n",
        "param = {'num_leaves':512, 'subsample': 1,'max_depth':9,'learning_rate':0.1,'max_bin':200, 'feature_fraction': 0.9}\n",
        "param['metric'] = ['auc', 'binary_logloss']"
      ],
      "execution_count": null,
      "outputs": []
    },
    {
      "cell_type": "code",
      "metadata": {
        "id": "_MaOyfynaMD4"
      },
      "source": [
        "# seed_all(seed)\n",
        "########### Train model #######################\n",
        "###### we used the ensemble method ############\n",
        "###############################################\n",
        "# estimators = [('cb', CatBoostClassifier( loss_function='CrossEntropy', depth=9, learning_rate=0.295, iterations=76, random_seed=8675309, eval_metric='AUC',min_child_samples=3) ) ]\n",
        "# model = StackingClassifier( estimators=estimators, final_estimator= LogisticRegression(penalty='l2',dual=False, tol=10, C=0.1, fit_intercept=True,\n",
        "# class_weight='balanced', random_state=1, solver='saga', max_iter=100,multi_class='multinomial')  )"
      ],
      "execution_count": null,
      "outputs": []
    },
    {
      "cell_type": "code",
      "metadata": {
        "id": "fwq8C0eTD6Wi"
      },
      "source": [
        "# def classify(X, y, cl, name=''):\n",
        "#     \"\"\"Classification using gene features\"\"\"\n",
        "\n",
        "#     from sklearn.metrics import classification_report, accuracy_score\n",
        "#     np.random.seed()\n",
        "#     ind = np.random.permutation(len(X))\n",
        "\n",
        "#     from sklearn.cross_validation import train_test_split\n",
        "#     Xtrain, Xtest, ytrain, ytest  = train_test_split(X, y, test_size=0.4)\n",
        "#     #print X\n",
        "#     cl.fit(Xtrain, ytrain)\n",
        "#     ypred = cl.predict(Xtest)\n",
        "\n",
        "#     print (classification_report(ytest, ypred))\n",
        "#     #print accuracy_score(ytest, ypred)\n",
        "#     from sklearn import cross_validation\n",
        "#     yl = pd.Categorical(y).labels\n",
        "#     sc = cross_validation.cross_val_score(cl, X, yl, scoring='roc_auc', cv=5)\n",
        "#     print(\"AUC: %0.2f (+/- %0.2f)\" % (sc.mean(), sc.std() * 2))\n",
        "#     return cl"
      ],
      "execution_count": null,
      "outputs": []
    },
    {
      "cell_type": "code",
      "metadata": {
        "id": "RWTQXiSsRQoT"
      },
      "source": [
        "seed_all(seed)\n",
        "# model = SVR(kernel='rbf', degree=3, gamma='scale', coef0=0.0, tol=0.001, C=1.0, epsilon=0.1, shrinking=True, cache_size=200, verbose=False, max_iter=- 1)\n",
        "# model = RandomForestClassifier(bootstrap=True,criterion = \"entropy\", max_depth=15, n_estimators=100, random_state=8675309 )\n",
        "model = CatBoostClassifier( loss_function='CrossEntropy', depth=9, learning_rate=0.295, iterations=152, random_seed=8675309, eval_metric='AUC',min_child_samples=3)\n",
        "# RandomForestClassifier( class_weight='balanced_subsample',n_estimators=39,criterion='entropy',min_samples_split=20,ccp_alpha=0.000008)\n",
        "# model =LogisticRegression(penalty='l2',dual=False, tol=10, C=0.1, fit_intercept=True,\n",
        "# class_weight='balanced', random_state=1, solver='saga', max_iter=100,multi_class='multinomial')"
      ],
      "execution_count": null,
      "outputs": []
    },
    {
      "cell_type": "code",
      "metadata": {
        "id": "GVRXm_fxM-iB"
      },
      "source": [
        "# seed_all(seed)\n",
        "# pipeline = Pipeline(steps=[('t', scaler), ('m', model)])\n",
        "# # evaluate the pipeline\n",
        "# cv = RepeatedStratifiedKFold(n_splits=5, n_repeats=1, random_state=8675309)\n",
        "# n_scores = cross_val_score(pipeline, X, y, scoring='roc_auc', cv=cv, n_jobs=-1, error_score='raise')\n",
        "# # report pipeline performance\n",
        "# print('AUC: %.3f (%.3f)' % (mean(n_scores), std(n_scores)))"
      ],
      "execution_count": null,
      "outputs": []
    },
    {
      "cell_type": "code",
      "metadata": {
        "id": "0m2eFBQCPqW8"
      },
      "source": [
        "seed_all(seed)\n",
        "#training our model\n",
        "num_round=55\n",
        "from datetime import datetime\n",
        "start = datetime.now()\n",
        "# model_xgb = xgb.train(parameters,dtrain,num_round)\n",
        "model_lgb = lgb.train(param,dtrain,num_round)\n",
        "stop = datetime.now()"
      ],
      "execution_count": null,
      "outputs": []
    },
    {
      "cell_type": "code",
      "metadata": {
        "colab": {
          "base_uri": "https://localhost:8080/"
        },
        "id": "W07soz6_PxeE",
        "outputId": "07d2e2ac-3679-4b4d-8103-6dc19bcc1932"
      },
      "source": [
        "seed_all(seed)\n",
        "# Execution time of the model\n",
        "execution_time_lgb = stop-start\n",
        "execution_time_lgb"
      ],
      "execution_count": null,
      "outputs": [
        {
          "output_type": "execute_result",
          "data": {
            "text/plain": [
              "datetime.timedelta(seconds=14, microseconds=145171)"
            ]
          },
          "metadata": {},
          "execution_count": 211
        }
      ]
    },
    {
      "cell_type": "code",
      "metadata": {
        "colab": {
          "base_uri": "https://localhost:8080/"
        },
        "id": "qMGEI8NpP8Zq",
        "outputId": "4d9c4056-ac1f-427b-d977-8799e203272e"
      },
      "source": [
        "seed_all(seed)\n",
        "#datetime.timedelta( , , ) representation => (days , seconds , microseconds)\n",
        "# #now predicting our model on test set\n",
        "# ypred = model_xgb.predict(dtest)\n",
        "ypred = model_lgb.predict(X_test)\n",
        "ypred"
      ],
      "execution_count": null,
      "outputs": [
        {
          "output_type": "execute_result",
          "data": {
            "text/plain": [
              "array([0.00679746, 0.39870584, 0.13395354, ..., 0.00428773, 0.00973666,\n",
              "       0.10079253])"
            ]
          },
          "metadata": {},
          "execution_count": 212
        }
      ]
    },
    {
      "cell_type": "code",
      "metadata": {
        "id": "WYvCfpclQM1j"
      },
      "source": [
        "# #Converting probabilities into 1 or 0\n",
        "# for i in range(0,9769):\n",
        "#     if ypred[i]>=.5:       # setting threshold to .5\n",
        "#        ypred[i]=1\n",
        "#     else:\n",
        "#        ypred[i]=0"
      ],
      "execution_count": null,
      "outputs": []
    },
    {
      "cell_type": "code",
      "metadata": {
        "id": "FBsEpgTdQeGx"
      },
      "source": [
        "# seed_all(seed)\n",
        "# #calculating accuracy of our model\n",
        "# from sklearn.metrics import accuracy_score\n",
        "# accuracy_xgb = accuracy_score(y_test,ypred)\n",
        "# print(ccuracy_xgb)"
      ],
      "execution_count": null,
      "outputs": []
    },
    {
      "cell_type": "code",
      "metadata": {
        "id": "-Cfb-h2yQ8Qs"
      },
      "source": [
        "# seed_all(seed)\n",
        "# # roc curve for models\n",
        "# fpr1, tpr1, thresh1 = roc_curve(y_test, ypred, pos_label=1)\n",
        "\n",
        "# # roc curve for tpr = fpr\n",
        "# random_probs = [0 for i in range(len(y_test))]\n",
        "# p_fpr, p_tpr, _ = roc_curve(y_test, random_probs, pos_label=1)"
      ],
      "execution_count": null,
      "outputs": []
    },
    {
      "cell_type": "code",
      "metadata": {
        "colab": {
          "base_uri": "https://localhost:8080/"
        },
        "id": "c-X-QlwqRapm",
        "outputId": "19464906-90cc-449b-b340-9812214abf05"
      },
      "source": [
        "seed_all(seed)\n",
        "# auc scores\n",
        "auc_lgb = roc_auc_score(y_test, ypred)\n",
        "\n",
        "print(auc_lgb)"
      ],
      "execution_count": null,
      "outputs": [
        {
          "output_type": "stream",
          "name": "stdout",
          "text": [
            "0.9033492247217068\n"
          ]
        }
      ]
    },
    {
      "cell_type": "code",
      "metadata": {
        "colab": {
          "base_uri": "https://localhost:8080/"
        },
        "id": "mivAWt0LRQoT",
        "outputId": "048417d0-bfa6-4baf-a551-a9f9af870677"
      },
      "source": [
        "seed_all(seed)\n",
        "# Fit model on data\n",
        "randmodel = model.fit(X_train,y_train)"
      ],
      "execution_count": null,
      "outputs": [
        {
          "output_type": "stream",
          "name": "stdout",
          "text": [
            "0:\ttotal: 387ms\tremaining: 58.5s\n",
            "1:\ttotal: 765ms\tremaining: 57.4s\n",
            "2:\ttotal: 1.17s\tremaining: 58.1s\n",
            "3:\ttotal: 1.57s\tremaining: 58s\n",
            "4:\ttotal: 1.95s\tremaining: 57.2s\n",
            "5:\ttotal: 2.3s\tremaining: 56.1s\n",
            "6:\ttotal: 2.67s\tremaining: 55.2s\n",
            "7:\ttotal: 3.04s\tremaining: 54.8s\n",
            "8:\ttotal: 3.39s\tremaining: 53.9s\n",
            "9:\ttotal: 3.76s\tremaining: 53.4s\n",
            "10:\ttotal: 4.12s\tremaining: 52.8s\n",
            "11:\ttotal: 4.43s\tremaining: 51.7s\n",
            "12:\ttotal: 4.82s\tremaining: 51.5s\n",
            "13:\ttotal: 5.17s\tremaining: 50.9s\n",
            "14:\ttotal: 5.55s\tremaining: 50.7s\n",
            "15:\ttotal: 5.92s\tremaining: 50.3s\n",
            "16:\ttotal: 6.23s\tremaining: 49.5s\n",
            "17:\ttotal: 6.59s\tremaining: 49s\n",
            "18:\ttotal: 6.93s\tremaining: 48.5s\n",
            "19:\ttotal: 7.27s\tremaining: 48s\n",
            "20:\ttotal: 7.58s\tremaining: 47.3s\n",
            "21:\ttotal: 7.92s\tremaining: 46.8s\n",
            "22:\ttotal: 8.28s\tremaining: 46.5s\n",
            "23:\ttotal: 8.63s\tremaining: 46s\n",
            "24:\ttotal: 8.97s\tremaining: 45.6s\n",
            "25:\ttotal: 9.3s\tremaining: 45.1s\n",
            "26:\ttotal: 9.67s\tremaining: 44.8s\n",
            "27:\ttotal: 9.94s\tremaining: 44s\n",
            "28:\ttotal: 10.3s\tremaining: 43.5s\n",
            "29:\ttotal: 10.6s\tremaining: 43.1s\n",
            "30:\ttotal: 10.9s\tremaining: 42.5s\n",
            "31:\ttotal: 11.3s\tremaining: 42.2s\n",
            "32:\ttotal: 11.6s\tremaining: 41.7s\n",
            "33:\ttotal: 11.9s\tremaining: 41.3s\n",
            "34:\ttotal: 12.2s\tremaining: 40.8s\n",
            "35:\ttotal: 12.6s\tremaining: 40.6s\n",
            "36:\ttotal: 12.9s\tremaining: 40.1s\n",
            "37:\ttotal: 13.2s\tremaining: 39.7s\n",
            "38:\ttotal: 13.6s\tremaining: 39.3s\n",
            "39:\ttotal: 13.9s\tremaining: 38.9s\n",
            "40:\ttotal: 14.2s\tremaining: 38.6s\n",
            "41:\ttotal: 14.6s\tremaining: 38.3s\n",
            "42:\ttotal: 15s\tremaining: 38s\n",
            "43:\ttotal: 15.3s\tremaining: 37.6s\n",
            "44:\ttotal: 15.6s\tremaining: 37.2s\n",
            "45:\ttotal: 16s\tremaining: 36.8s\n",
            "46:\ttotal: 16.3s\tremaining: 36.5s\n",
            "47:\ttotal: 16.7s\tremaining: 36.1s\n",
            "48:\ttotal: 17s\tremaining: 35.7s\n",
            "49:\ttotal: 17.3s\tremaining: 35.3s\n",
            "50:\ttotal: 17.6s\tremaining: 34.9s\n",
            "51:\ttotal: 17.9s\tremaining: 34.4s\n",
            "52:\ttotal: 18.2s\tremaining: 34s\n",
            "53:\ttotal: 18.6s\tremaining: 33.7s\n",
            "54:\ttotal: 18.8s\tremaining: 33.2s\n",
            "55:\ttotal: 19.2s\tremaining: 32.9s\n",
            "56:\ttotal: 19.5s\tremaining: 32.5s\n",
            "57:\ttotal: 19.8s\tremaining: 32.2s\n",
            "58:\ttotal: 20.2s\tremaining: 31.8s\n",
            "59:\ttotal: 20.5s\tremaining: 31.5s\n",
            "60:\ttotal: 20.9s\tremaining: 31.2s\n",
            "61:\ttotal: 21.2s\tremaining: 30.8s\n",
            "62:\ttotal: 21.5s\tremaining: 30.4s\n",
            "63:\ttotal: 21.8s\tremaining: 30s\n",
            "64:\ttotal: 22.1s\tremaining: 29.6s\n",
            "65:\ttotal: 22.5s\tremaining: 29.3s\n",
            "66:\ttotal: 22.7s\tremaining: 28.8s\n",
            "67:\ttotal: 23.1s\tremaining: 28.5s\n",
            "68:\ttotal: 23.4s\tremaining: 28.1s\n",
            "69:\ttotal: 23.7s\tremaining: 27.8s\n",
            "70:\ttotal: 24.1s\tremaining: 27.5s\n",
            "71:\ttotal: 24.4s\tremaining: 27.2s\n",
            "72:\ttotal: 24.8s\tremaining: 26.8s\n",
            "73:\ttotal: 25.1s\tremaining: 26.5s\n",
            "74:\ttotal: 25.4s\tremaining: 26s\n",
            "75:\ttotal: 25.7s\tremaining: 25.7s\n",
            "76:\ttotal: 26.1s\tremaining: 25.4s\n",
            "77:\ttotal: 26.4s\tremaining: 25s\n",
            "78:\ttotal: 26.7s\tremaining: 24.7s\n",
            "79:\ttotal: 27s\tremaining: 24.3s\n",
            "80:\ttotal: 27.3s\tremaining: 23.9s\n",
            "81:\ttotal: 27.7s\tremaining: 23.6s\n",
            "82:\ttotal: 28s\tremaining: 23.3s\n",
            "83:\ttotal: 28.3s\tremaining: 22.9s\n",
            "84:\ttotal: 28.6s\tremaining: 22.6s\n",
            "85:\ttotal: 28.9s\tremaining: 22.2s\n",
            "86:\ttotal: 29.2s\tremaining: 21.8s\n",
            "87:\ttotal: 29.5s\tremaining: 21.5s\n",
            "88:\ttotal: 29.8s\tremaining: 21.1s\n",
            "89:\ttotal: 30.1s\tremaining: 20.8s\n",
            "90:\ttotal: 30.4s\tremaining: 20.4s\n",
            "91:\ttotal: 30.7s\tremaining: 20s\n",
            "92:\ttotal: 31s\tremaining: 19.7s\n",
            "93:\ttotal: 31.4s\tremaining: 19.3s\n",
            "94:\ttotal: 31.7s\tremaining: 19s\n",
            "95:\ttotal: 32s\tremaining: 18.7s\n",
            "96:\ttotal: 32.3s\tremaining: 18.3s\n",
            "97:\ttotal: 32.7s\tremaining: 18s\n",
            "98:\ttotal: 33s\tremaining: 17.7s\n",
            "99:\ttotal: 33.4s\tremaining: 17.3s\n",
            "100:\ttotal: 33.7s\tremaining: 17s\n",
            "101:\ttotal: 34s\tremaining: 16.7s\n",
            "102:\ttotal: 34.4s\tremaining: 16.3s\n",
            "103:\ttotal: 34.6s\tremaining: 16s\n",
            "104:\ttotal: 34.9s\tremaining: 15.6s\n",
            "105:\ttotal: 35.3s\tremaining: 15.3s\n",
            "106:\ttotal: 35.6s\tremaining: 15s\n",
            "107:\ttotal: 35.9s\tremaining: 14.6s\n",
            "108:\ttotal: 36.2s\tremaining: 14.3s\n",
            "109:\ttotal: 36.5s\tremaining: 14s\n",
            "110:\ttotal: 36.9s\tremaining: 13.6s\n",
            "111:\ttotal: 37.2s\tremaining: 13.3s\n",
            "112:\ttotal: 37.5s\tremaining: 13s\n",
            "113:\ttotal: 37.8s\tremaining: 12.6s\n",
            "114:\ttotal: 38.1s\tremaining: 12.3s\n",
            "115:\ttotal: 38.4s\tremaining: 11.9s\n",
            "116:\ttotal: 38.7s\tremaining: 11.6s\n",
            "117:\ttotal: 39s\tremaining: 11.2s\n",
            "118:\ttotal: 39.4s\tremaining: 10.9s\n",
            "119:\ttotal: 39.7s\tremaining: 10.6s\n",
            "120:\ttotal: 40s\tremaining: 10.3s\n",
            "121:\ttotal: 40.3s\tremaining: 9.91s\n",
            "122:\ttotal: 40.6s\tremaining: 9.58s\n",
            "123:\ttotal: 41s\tremaining: 9.25s\n",
            "124:\ttotal: 41.3s\tremaining: 8.93s\n",
            "125:\ttotal: 41.7s\tremaining: 8.6s\n",
            "126:\ttotal: 42s\tremaining: 8.27s\n",
            "127:\ttotal: 42.4s\tremaining: 7.94s\n",
            "128:\ttotal: 42.7s\tremaining: 7.62s\n",
            "129:\ttotal: 43.1s\tremaining: 7.29s\n",
            "130:\ttotal: 43.4s\tremaining: 6.95s\n",
            "131:\ttotal: 43.8s\tremaining: 6.63s\n",
            "132:\ttotal: 44.1s\tremaining: 6.3s\n",
            "133:\ttotal: 44.4s\tremaining: 5.97s\n",
            "134:\ttotal: 44.8s\tremaining: 5.64s\n",
            "135:\ttotal: 45.1s\tremaining: 5.3s\n",
            "136:\ttotal: 45.4s\tremaining: 4.97s\n",
            "137:\ttotal: 45.8s\tremaining: 4.64s\n",
            "138:\ttotal: 46.1s\tremaining: 4.31s\n",
            "139:\ttotal: 46.5s\tremaining: 3.98s\n",
            "140:\ttotal: 46.8s\tremaining: 3.65s\n",
            "141:\ttotal: 47.1s\tremaining: 3.32s\n",
            "142:\ttotal: 47.4s\tremaining: 2.98s\n",
            "143:\ttotal: 47.8s\tremaining: 2.65s\n",
            "144:\ttotal: 48.1s\tremaining: 2.32s\n",
            "145:\ttotal: 48.4s\tremaining: 1.99s\n",
            "146:\ttotal: 48.8s\tremaining: 1.66s\n",
            "147:\ttotal: 49.1s\tremaining: 1.33s\n",
            "148:\ttotal: 49.4s\tremaining: 995ms\n",
            "149:\ttotal: 49.8s\tremaining: 664ms\n",
            "150:\ttotal: 50.1s\tremaining: 332ms\n",
            "151:\ttotal: 50.5s\tremaining: 0us\n"
          ]
        }
      ]
    },
    {
      "cell_type": "code",
      "metadata": {
        "id": "wUURmsu7RQoU"
      },
      "source": [
        "seed_all(seed)\n",
        "#Predict on the X_test data\n",
        "pred = randmodel.predict(X_test)\n",
        "pred_prob = randmodel.predict_proba(X_test)"
      ],
      "execution_count": null,
      "outputs": []
    },
    {
      "cell_type": "code",
      "metadata": {
        "colab": {
          "base_uri": "https://localhost:8080/"
        },
        "id": "KtMJh1y_r1Fp",
        "outputId": "9b56db87-1afc-430c-ffc1-9b59eca2c619"
      },
      "source": [
        "seed_all(seed)\n",
        "print(pred_prob)"
      ],
      "execution_count": null,
      "outputs": [
        {
          "output_type": "stream",
          "name": "stdout",
          "text": [
            "[[0.99398842 0.00601158]\n",
            " [0.6061243  0.3938757 ]\n",
            " [0.87523219 0.12476781]\n",
            " ...\n",
            " [0.99613738 0.00386262]\n",
            " [0.99033111 0.00966889]\n",
            " [0.90961608 0.09038392]]\n"
          ]
        }
      ]
    },
    {
      "cell_type": "code",
      "metadata": {
        "id": "YT3AHIQToO9a"
      },
      "source": [
        "# seed_all(seed)\n",
        "# # roc curve for models\n",
        "# fpr1, tpr1, thresh1 = roc_curve(y_test, pred_prob[:,1], pos_label=1)\n",
        "\n",
        "# # roc curve for tpr = fpr\n",
        "# random_probs = [0 for i in range(len(y_test))]\n",
        "# p_fpr, p_tpr, _ = roc_curve(y_test, random_probs, pos_label=1)"
      ],
      "execution_count": null,
      "outputs": []
    },
    {
      "cell_type": "code",
      "metadata": {
        "colab": {
          "base_uri": "https://localhost:8080/"
        },
        "id": "3sVaCmDiqK-p",
        "outputId": "59c6b6d1-2a2a-4562-d3e3-e74533017b56"
      },
      "source": [
        "seed_all(seed)\n",
        "# auc scores\n",
        "auc_score = roc_auc_score(y_test, pred_prob[:,1])\n",
        "\n",
        "print(auc_score)"
      ],
      "execution_count": null,
      "outputs": [
        {
          "output_type": "stream",
          "name": "stdout",
          "text": [
            "0.9035224412036497\n"
          ]
        }
      ]
    },
    {
      "cell_type": "code",
      "metadata": {
        "id": "WjegGd0wRQoU",
        "colab": {
          "base_uri": "https://localhost:8080/"
        },
        "outputId": "c1c05004-1633-4f37-f41d-02a9c203b115"
      },
      "source": [
        "seed_all(seed)\n",
        "print(\"Acuracy\")\n",
        "accuracy_score(y_test, pred)"
      ],
      "execution_count": null,
      "outputs": [
        {
          "output_type": "stream",
          "name": "stdout",
          "text": [
            "Acuracy\n"
          ]
        },
        {
          "output_type": "execute_result",
          "data": {
            "text/plain": [
              "0.8660592836749379"
            ]
          },
          "metadata": {},
          "execution_count": 222
        }
      ]
    },
    {
      "cell_type": "code",
      "metadata": {
        "id": "WmU74pPpRQoU"
      },
      "source": [
        "# seed_all(seed)\n",
        "# print(\"Recall\")\n",
        "# recall_score(y_test, pred)"
      ],
      "execution_count": null,
      "outputs": []
    },
    {
      "cell_type": "code",
      "metadata": {
        "id": "tggeFzSiRQoU"
      },
      "source": [
        "# seed_all(seed)\n",
        "# print(\"F1 Score\")\n",
        "# f1_score(y_test, pred)"
      ],
      "execution_count": null,
      "outputs": []
    },
    {
      "cell_type": "code",
      "metadata": {
        "id": "LQ0RlWybRQoV"
      },
      "source": [
        "# seed_all(seed)\n",
        "# confusion_matrix(y_test, ypred)"
      ],
      "execution_count": null,
      "outputs": []
    },
    {
      "cell_type": "markdown",
      "metadata": {
        "id": "0_slyceAfvz-"
      },
      "source": []
    },
    {
      "cell_type": "code",
      "metadata": {
        "id": "GRo1aXbBRQoV"
      },
      "source": [
        "# Making a submission"
      ],
      "execution_count": null,
      "outputs": []
    },
    {
      "cell_type": "code",
      "metadata": {
        "id": "Ph9KvAE8WvTe"
      },
      "source": [
        "ss = pd.read_csv('/content/drive/MyDrive/Expresso Churn Prediction Challenge/SampleSubmission.csv')"
      ],
      "execution_count": null,
      "outputs": []
    },
    {
      "cell_type": "code",
      "metadata": {
        "id": "txTrvX35Yhww"
      },
      "source": [
        "seed_all(seed)\n",
        "subpred = randmodel.predict_proba(test)[:,1]"
      ],
      "execution_count": null,
      "outputs": []
    },
    {
      "cell_type": "code",
      "metadata": {
        "id": "rFRitXTkqxeA"
      },
      "source": [
        "# seed_all(seed)\n",
        "# dtest1=xgb.DMatrix(test)\n",
        "# subpred = model_xgb.predict(dtest1)"
      ],
      "execution_count": null,
      "outputs": []
    },
    {
      "cell_type": "code",
      "metadata": {
        "id": "PpcLu6Jvu9yN"
      },
      "source": [
        "# seed_all(seed)\n",
        "# subpred = model_lgb.predict(test)"
      ],
      "execution_count": null,
      "outputs": []
    },
    {
      "cell_type": "code",
      "metadata": {
        "id": "WltAWinaXLCq"
      },
      "source": [
        "seed_all(seed)\n",
        "ss[\"CHURN\"] = subpred"
      ],
      "execution_count": null,
      "outputs": []
    },
    {
      "cell_type": "code",
      "metadata": {
        "colab": {
          "base_uri": "https://localhost:8080/",
          "height": 204
        },
        "id": "e6fWdgWzniyQ",
        "outputId": "1f8d0341-7c6d-4b8e-f3ee-497f4ff0aa10"
      },
      "source": [
        "ss.head()"
      ],
      "execution_count": null,
      "outputs": [
        {
          "output_type": "execute_result",
          "data": {
            "text/html": [
              "<div>\n",
              "<style scoped>\n",
              "    .dataframe tbody tr th:only-of-type {\n",
              "        vertical-align: middle;\n",
              "    }\n",
              "\n",
              "    .dataframe tbody tr th {\n",
              "        vertical-align: top;\n",
              "    }\n",
              "\n",
              "    .dataframe thead th {\n",
              "        text-align: right;\n",
              "    }\n",
              "</style>\n",
              "<table border=\"1\" class=\"dataframe\">\n",
              "  <thead>\n",
              "    <tr style=\"text-align: right;\">\n",
              "      <th></th>\n",
              "      <th>user_id</th>\n",
              "      <th>CHURN</th>\n",
              "    </tr>\n",
              "  </thead>\n",
              "  <tbody>\n",
              "    <tr>\n",
              "      <th>0</th>\n",
              "      <td>00001dbe00e56fc4b1c1b65dda63de2a5ece55f9</td>\n",
              "      <td>0.077872</td>\n",
              "    </tr>\n",
              "    <tr>\n",
              "      <th>1</th>\n",
              "      <td>000055d41c8a62052dd426592e8a4a3342bf565d</td>\n",
              "      <td>0.034426</td>\n",
              "    </tr>\n",
              "    <tr>\n",
              "      <th>2</th>\n",
              "      <td>000081dd3245e6869a4a9c574c7050e7bb84c2c8</td>\n",
              "      <td>0.194540</td>\n",
              "    </tr>\n",
              "    <tr>\n",
              "      <th>3</th>\n",
              "      <td>0000b76d2145d9445d9ff6b65c9ebc4196c89337</td>\n",
              "      <td>0.666798</td>\n",
              "    </tr>\n",
              "    <tr>\n",
              "      <th>4</th>\n",
              "      <td>0000bae5480628cf8fe51ad84bcb39772fc79224</td>\n",
              "      <td>0.666798</td>\n",
              "    </tr>\n",
              "  </tbody>\n",
              "</table>\n",
              "</div>"
            ],
            "text/plain": [
              "                                    user_id     CHURN\n",
              "0  00001dbe00e56fc4b1c1b65dda63de2a5ece55f9  0.077872\n",
              "1  000055d41c8a62052dd426592e8a4a3342bf565d  0.034426\n",
              "2  000081dd3245e6869a4a9c574c7050e7bb84c2c8  0.194540\n",
              "3  0000b76d2145d9445d9ff6b65c9ebc4196c89337  0.666798\n",
              "4  0000bae5480628cf8fe51ad84bcb39772fc79224  0.666798"
            ]
          },
          "metadata": {},
          "execution_count": 232
        }
      ]
    },
    {
      "cell_type": "code",
      "metadata": {
        "id": "6bYjqxgHXrx1"
      },
      "source": [
        "seed_all(seed)\n",
        "#Save submission dataframe in the drive to CSV\n",
        "#print(\"[INFO] Saving Predicition to CSV\")\n",
        "ss.to_csv('/content/drive/MyDrive/Expresso Churn Prediction Challenge/Sub8.csv',columns=[\"user_id\",\"CHURN\"], index = False)"
      ],
      "execution_count": null,
      "outputs": []
    },
    {
      "cell_type": "code",
      "metadata": {
        "id": "_jmTikIeRQoV"
      },
      "source": [
        "# seed_all(seed)\n",
        "# submission.head()"
      ],
      "execution_count": null,
      "outputs": []
    },
    {
      "cell_type": "code",
      "metadata": {
        "id": "CUx_qaosRQoV"
      },
      "source": [
        "# seed_all(seed)\n",
        "# test.head()"
      ],
      "execution_count": null,
      "outputs": []
    },
    {
      "cell_type": "code",
      "metadata": {
        "id": "eKWU0eiLRQoW"
      },
      "source": [
        "# seed_all(seed)\n",
        "# subpred = randmodel.predict_proba(test)"
      ],
      "execution_count": null,
      "outputs": []
    },
    {
      "cell_type": "code",
      "metadata": {
        "id": "6fs9nn3KRQoW"
      },
      "source": [
        "# seed_all(seed)\n",
        "# subpred"
      ],
      "execution_count": null,
      "outputs": []
    },
    {
      "cell_type": "code",
      "metadata": {
        "id": "yn_l4xY7U3KE"
      },
      "source": [
        "# pwd"
      ],
      "execution_count": null,
      "outputs": []
    },
    {
      "cell_type": "code",
      "metadata": {
        "id": "kLmPt3czVE1v"
      },
      "source": [
        "# cd '/content/drive/MyDrive/Expresso Churn Prediction Challenge/'"
      ],
      "execution_count": null,
      "outputs": []
    },
    {
      "cell_type": "code",
      "metadata": {
        "id": "51S1SjITRQoW"
      },
      "source": [
        "# seed_all(seed)\n",
        "# SampleSubmission[\"CHURN\"] = subpred"
      ],
      "execution_count": null,
      "outputs": []
    },
    {
      "cell_type": "code",
      "metadata": {
        "id": "ZX1HMtRDRQoW"
      },
      "source": [
        "# submission.head()"
      ],
      "execution_count": null,
      "outputs": []
    },
    {
      "cell_type": "code",
      "metadata": {
        "id": "RWWXoKEDRQoX"
      },
      "source": [
        "# seed_all(seed)\n",
        "# submission.to_csv('/content/drive/MyDrive/Expresso Churn Prediction Challenge/su3.csv', index=False)"
      ],
      "execution_count": null,
      "outputs": []
    },
    {
      "cell_type": "code",
      "metadata": {
        "id": "SUv9dSxVRQoX"
      },
      "source": [
        "# 1. Do more feature engineering\n",
        "# 2. Handle the imbalance nature of the predictor class\n",
        "# 3. Use other algorithms\n",
        "# 4. Tune hyperparameters of this model\n",
        "# 5. Handle missing values properly\n",
        "# 6. Any other thing you feel can improve the performance of the model is good to go\n"
      ],
      "execution_count": null,
      "outputs": []
    },
    {
      "cell_type": "markdown",
      "metadata": {
        "id": "e1ugCUrIRQoX"
      },
      "source": []
    }
  ]
}